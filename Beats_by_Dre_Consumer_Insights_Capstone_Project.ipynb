{
  "cells": [
    {
      "cell_type": "markdown",
      "metadata": {
        "id": "IydAmVbUe5No"
      },
      "source": [
        "# Capstone Project: Consumer Insights Data Analytics Externship of Beats by Dre"
      ]
    },
    {
      "cell_type": "markdown",
      "metadata": {
        "id": "cnsXGvlme_mH"
      },
      "source": [
        "Kindly use this template to get an overview of the structure that you need to follow in your capstone project.\n",
        "\n",
        "Ensure that the final insights that you produce in your analysis stand out and are easily accessible.\n",
        "\n",
        "You need to provide the code snippets that you used to run the code."
      ]
    },
    {
      "cell_type": "markdown",
      "metadata": {
        "id": "9NNnXrCxfZm5"
      },
      "source": [
        "## 1. Title Page\n",
        "**Project Title:** Consumer Insights Data Analytics Externship of Beats by Dre  \n",
        "**Student Name:** Megha Manoj\n",
        "**Date:** 08/31/2024"
      ]
    },
    {
      "cell_type": "markdown",
      "metadata": {
        "id": "EcaUG1uyfeiS"
      },
      "source": [
        "## 2. Table of Contents\n",
        "1. Introduction\n",
        "2. Data Description\n",
        "3. Exploratory Data Analysis (EDA)\n",
        "4. Sentiment Analysis\n",
        "5. AI-Generated Insights\n",
        "6. Comparative Analysis\n",
        "7. Strategic Recommendations\n",
        "8. Conclusion\n",
        "9. References"
      ]
    },
    {
      "cell_type": "markdown",
      "metadata": {
        "id": "jbYdV2Rbf0AD"
      },
      "source": [
        "## 3. Introduction\n",
        "\n",
        "### 3.1 Project Overview"
      ]
    },
    {
      "cell_type": "markdown",
      "metadata": {
        "id": "ccVIj1MXhtLm"
      },
      "source": [
        "**Purpose**\n",
        "\n",
        "The project aimed to enhance the understanding of consumer sentiment and feedback to inform strategic brand-building efforts. The primary objective was to leverage data science techniques to analyze large datasets of consumer reviews, uncover patterns and trends, and extract meaningful insights.\n",
        "\n",
        "**Key Objectives**\n",
        "\n",
        "\n",
        "*   Apply EDA techniques to uncover underlying patterns and trends within the datasets, providing a deeper understanding of customer behavior and preferences.\n",
        "*   Use effective visualizations present relationships, correlations and insights, enabling stakeholders to make informed decisions\n",
        "*   Perform comprehensive sentiment analysis on consumer reviews, determining the overall sentiment and specific sentiments related to various aspects of the brand\n",
        "*   Utilize NLP tools, including Gemini AI, to interpret and summarize customer feedback, extracting key themes and sentiments that could guide brand strategy.\n",
        "\n"
      ]
    },
    {
      "cell_type": "markdown",
      "metadata": {
        "id": "gsPiaY4Zf6bZ"
      },
      "source": [
        "### 3.2 Background\n",
        "\n",
        "Beats by Dre is a prominent audio brand, co-founded by Dr. Dre and Jimmy Iovine in 2006. Known for its stylish design and powerful bass-heavy sound, the company has revolutionized the premium headphone market. In 2014, Beats by Dre was acquired by Apple Inc., further solidifying its place in the tech industry as a leader in audio technology and lifestyle products. Consumer sentiment analysis is crucial in the tech industry because it helps to:\n",
        "\n",
        "*   **Improve Products:** Understand customer feedback to enhance product features and user experience\n",
        "*   **Monitor Brand Perception:** Track how the brand is viewed and maintain a positive reputation\n",
        "*   **Stay Competitive:** Identify market trends and adapt quickly to consumer preferences\n",
        "*   **Refine Marketing Strategies:** Craft messages that resonate with customers based on their sentiments\n",
        "*   **Manage Crises:** Quickly respond to negative feedback to protect the brand’s image"
      ]
    },
    {
      "cell_type": "markdown",
      "metadata": {
        "id": "oL_6d6NngA_2"
      },
      "source": [
        "## 4. Data Description\n",
        "\n",
        "### 4.1 Data Sources\n",
        "\n",
        "I gathered reviews of products (here, headphones) from Amazon for ten different products (two from Beats, while the other eight from different brands and competitors, two from each brand). Headphone brands considered:\n",
        "\n",
        "\n",
        "*   Beats by Dre\n",
        "*   Sony\n",
        "*   Bose\n",
        "*   Sennheiser\n",
        "*   Audio Technica\n"
      ]
    },
    {
      "cell_type": "markdown",
      "metadata": {
        "id": "8KD8d0nXgCAy"
      },
      "source": [
        "### 4.2 Data Collection\n",
        "*   **Data Selection:** Chose different models of headphones of Beats and their competitive brands and made sure to stick to similar price range in order to target similar market\n",
        "*   **Web Scraping:** Used Oxylabs API to scrape the reviews into CSV files, combined them into a dataset of 1000 reviews\n",
        "\n",
        "**Challenges Faced**\n",
        "* As per the structure of Oxylabs, I could not gather reviews from beyond the 10th page. Hence, the maximum possible reviews that could be obtained from a single request is 100. Thus, in order to build a large enough dataset of 1000 reviews, I took 10 different products into consideration contrary to the 5 that was initially decided.\n",
        "* Many a times, only 10 reviews were collected from a single request due to technical issues. Ideally, it should have been 100 per request. Hence, I spent lot more of time and effort on building the dataset since I had to make multiple API requests to get the required number of reviews.\n",
        "\n",
        "\n",
        "\n"
      ]
    },
    {
      "cell_type": "markdown",
      "metadata": {
        "id": "dnCMjSjegE55"
      },
      "source": [
        "### 4.3 Data Cleaning\n",
        "Outline the steps taken to clean and preprocess the data, highlighting any significant decisions made during this process.\n",
        "\n",
        "Load the data below and process cleaning here.\n",
        "\n",
        "Major steps taken to clean and preprocess the data\n",
        "*   Handling missing values\n",
        "*   Dropping the duplicate rows if any\n",
        "*   Converting categorical columns to numerical variables if necessary\n",
        "\n"
      ]
    },
    {
      "cell_type": "code",
      "execution_count": null,
      "metadata": {
        "id": "bgAD9_XRgGru"
      },
      "outputs": [],
      "source": [
        "import numpy as np\n",
        "import pandas as pd\n",
        "import matplotlib.pyplot as plt\n",
        "import seaborn as sns\n",
        "from scipy.stats import pearsonr\n",
        "import google.generativeai as genai"
      ]
    },
    {
      "cell_type": "code",
      "execution_count": null,
      "metadata": {
        "colab": {
          "base_uri": "https://localhost:8080/",
          "height": 53
        },
        "id": "QPz5L1dL9Aqu",
        "outputId": "3970f97f-1424-43c0-d425-07c00da242ef"
      },
      "outputs": [
        {
          "data": {
            "application/vnd.google.colaboratory.intrinsic+json": {
              "repr_error": "Out of range float values are not JSON compliant: nan",
              "type": "dataframe"
            },
            "text/html": [
              "\n",
              "  <div id=\"df-7271ac0f-c208-40ae-84a3-3af3a1f63a86\" class=\"colab-df-container\">\n",
              "    <div>\n",
              "<style scoped>\n",
              "    .dataframe tbody tr th:only-of-type {\n",
              "        vertical-align: middle;\n",
              "    }\n",
              "\n",
              "    .dataframe tbody tr th {\n",
              "        vertical-align: top;\n",
              "    }\n",
              "\n",
              "    .dataframe thead th {\n",
              "        text-align: right;\n",
              "    }\n",
              "</style>\n",
              "<table border=\"1\" class=\"dataframe\">\n",
              "  <thead>\n",
              "    <tr style=\"text-align: right;\">\n",
              "      <th></th>\n",
              "      <th>review_id</th>\n",
              "      <th>product_id</th>\n",
              "      <th>title</th>\n",
              "      <th>author</th>\n",
              "      <th>rating</th>\n",
              "      <th>content</th>\n",
              "      <th>timestamp</th>\n",
              "      <th>profile_id</th>\n",
              "      <th>is_verified</th>\n",
              "      <th>helpful_count</th>\n",
              "      <th>product_attributes</th>\n",
              "    </tr>\n",
              "  </thead>\n",
              "  <tbody>\n",
              "  </tbody>\n",
              "</table>\n",
              "</div>\n",
              "    <div class=\"colab-df-buttons\">\n",
              "\n",
              "  <div class=\"colab-df-container\">\n",
              "    <button class=\"colab-df-convert\" onclick=\"convertToInteractive('df-7271ac0f-c208-40ae-84a3-3af3a1f63a86')\"\n",
              "            title=\"Convert this dataframe to an interactive table.\"\n",
              "            style=\"display:none;\">\n",
              "\n",
              "  <svg xmlns=\"http://www.w3.org/2000/svg\" height=\"24px\" viewBox=\"0 -960 960 960\">\n",
              "    <path d=\"M120-120v-720h720v720H120Zm60-500h600v-160H180v160Zm220 220h160v-160H400v160Zm0 220h160v-160H400v160ZM180-400h160v-160H180v160Zm440 0h160v-160H620v160ZM180-180h160v-160H180v160Zm440 0h160v-160H620v160Z\"/>\n",
              "  </svg>\n",
              "    </button>\n",
              "\n",
              "  <style>\n",
              "    .colab-df-container {\n",
              "      display:flex;\n",
              "      gap: 12px;\n",
              "    }\n",
              "\n",
              "    .colab-df-convert {\n",
              "      background-color: #E8F0FE;\n",
              "      border: none;\n",
              "      border-radius: 50%;\n",
              "      cursor: pointer;\n",
              "      display: none;\n",
              "      fill: #1967D2;\n",
              "      height: 32px;\n",
              "      padding: 0 0 0 0;\n",
              "      width: 32px;\n",
              "    }\n",
              "\n",
              "    .colab-df-convert:hover {\n",
              "      background-color: #E2EBFA;\n",
              "      box-shadow: 0px 1px 2px rgba(60, 64, 67, 0.3), 0px 1px 3px 1px rgba(60, 64, 67, 0.15);\n",
              "      fill: #174EA6;\n",
              "    }\n",
              "\n",
              "    .colab-df-buttons div {\n",
              "      margin-bottom: 4px;\n",
              "    }\n",
              "\n",
              "    [theme=dark] .colab-df-convert {\n",
              "      background-color: #3B4455;\n",
              "      fill: #D2E3FC;\n",
              "    }\n",
              "\n",
              "    [theme=dark] .colab-df-convert:hover {\n",
              "      background-color: #434B5C;\n",
              "      box-shadow: 0px 1px 3px 1px rgba(0, 0, 0, 0.15);\n",
              "      filter: drop-shadow(0px 1px 2px rgba(0, 0, 0, 0.3));\n",
              "      fill: #FFFFFF;\n",
              "    }\n",
              "  </style>\n",
              "\n",
              "    <script>\n",
              "      const buttonEl =\n",
              "        document.querySelector('#df-7271ac0f-c208-40ae-84a3-3af3a1f63a86 button.colab-df-convert');\n",
              "      buttonEl.style.display =\n",
              "        google.colab.kernel.accessAllowed ? 'block' : 'none';\n",
              "\n",
              "      async function convertToInteractive(key) {\n",
              "        const element = document.querySelector('#df-7271ac0f-c208-40ae-84a3-3af3a1f63a86');\n",
              "        const dataTable =\n",
              "          await google.colab.kernel.invokeFunction('convertToInteractive',\n",
              "                                                    [key], {});\n",
              "        if (!dataTable) return;\n",
              "\n",
              "        const docLinkHtml = 'Like what you see? Visit the ' +\n",
              "          '<a target=\"_blank\" href=https://colab.research.google.com/notebooks/data_table.ipynb>data table notebook</a>'\n",
              "          + ' to learn more about interactive tables.';\n",
              "        element.innerHTML = '';\n",
              "        dataTable['output_type'] = 'display_data';\n",
              "        await google.colab.output.renderOutput(dataTable, element);\n",
              "        const docLink = document.createElement('div');\n",
              "        docLink.innerHTML = docLinkHtml;\n",
              "        element.appendChild(docLink);\n",
              "      }\n",
              "    </script>\n",
              "  </div>\n",
              "\n",
              "\n",
              "    </div>\n",
              "  </div>\n"
            ],
            "text/plain": [
              "Empty DataFrame\n",
              "Columns: [review_id, product_id, title, author, rating, content, timestamp, profile_id, is_verified, helpful_count, product_attributes]\n",
              "Index: []"
            ]
          },
          "execution_count": 4,
          "metadata": {},
          "output_type": "execute_result"
        }
      ],
      "source": [
        "data = pd.read_csv('/content/review_dataset.csv')\n",
        "#Decided to replace the empty content with 'Nil'\n",
        "data['content']= data['content'].fillna('Nil')\n",
        "data[data['content'].isnull()]"
      ]
    },
    {
      "cell_type": "markdown",
      "metadata": {
        "id": "IBbjW4KDD7zI"
      },
      "source": [
        "Logically thought, product attributes like color are not mandatory in reviews. However, they are not useless too. Hence, I chose to not drop the column and decided to replace the empty product attributes with 'Unknown'\n"
      ]
    },
    {
      "cell_type": "code",
      "execution_count": null,
      "metadata": {
        "colab": {
          "base_uri": "https://localhost:8080/",
          "height": 1000
        },
        "id": "pSBUcaW3EGYd",
        "outputId": "93080dc0-9997-407d-c7e1-df693bf4eeb6"
      },
      "outputs": [
        {
          "data": {
            "application/vnd.google.colaboratory.intrinsic+json": {
              "summary": "{\n  \"name\": \"data\",\n  \"rows\": 1000,\n  \"fields\": [\n    {\n      \"column\": \"review_id\",\n      \"properties\": {\n        \"dtype\": \"string\",\n        \"num_unique_values\": 1000,\n        \"samples\": [\n          \"R3IHF8HGK6SEZW\",\n          \"R2DR1WUY1J1TZW\",\n          \"R1PMLMQO06HC4\"\n        ],\n        \"semantic_type\": \"\",\n        \"description\": \"\"\n      }\n    },\n    {\n      \"column\": \"product_id\",\n      \"properties\": {\n        \"dtype\": \"category\",\n        \"num_unique_values\": 10,\n        \"samples\": [\n          \"B00SC80YLM\",\n          \"B07DHHXZRN\",\n          \"B0CCZ26B5V\"\n        ],\n        \"semantic_type\": \"\",\n        \"description\": \"\"\n      }\n    },\n    {\n      \"column\": \"title\",\n      \"properties\": {\n        \"dtype\": \"string\",\n        \"num_unique_values\": 964,\n        \"samples\": [\n          \"5.0 out of 5 stars What world?\",\n          \"5.0 out of 5 stars Buy them... With a Caveat\",\n          \"5.0 out of 5 stars Great paired with tube amp, punches way above class\"\n        ],\n        \"semantic_type\": \"\",\n        \"description\": \"\"\n      }\n    },\n    {\n      \"column\": \"author\",\n      \"properties\": {\n        \"dtype\": \"string\",\n        \"num_unique_values\": 921,\n        \"samples\": [\n          \"Indigo\",\n          \"R.Chapman\",\n          \"Sophie Hopkins\"\n        ],\n        \"semantic_type\": \"\",\n        \"description\": \"\"\n      }\n    },\n    {\n      \"column\": \"rating\",\n      \"properties\": {\n        \"dtype\": \"number\",\n        \"std\": 0,\n        \"min\": 1,\n        \"max\": 5,\n        \"num_unique_values\": 5,\n        \"samples\": [\n          4,\n          1,\n          3\n        ],\n        \"semantic_type\": \"\",\n        \"description\": \"\"\n      }\n    },\n    {\n      \"column\": \"content\",\n      \"properties\": {\n        \"dtype\": \"string\",\n        \"num_unique_values\": 1000,\n        \"samples\": [\n          \"I usually stick to Sony, I liked the xm3, 4, tried the 5 and hated it and how CHEAP they felt. There's always a comfort issue with me. I always had to buy aftermarket pads just to get the things comfortable because they always squish into on-ear headphones.The Bose headphones are the most comfy wireless headphones I've ever owned and it's not even close. The sound is fantastic too. I'm sure the Sony's are \\\"technically\\\" better or something, but what the heck is the damn point if I have to take breaks every 45 minutes to avoid a headache!Anyway, they sound great, they're very comfortable.I mostly use \\\"aware\\\" mode and it's miles better than the xm4's I used to own. I can actually hear my surroundings or if someone's trying to get my attention at work. Noise cancellation mode is pretty good too for things like yard work or whatever also.They were an impulse buy but I'm a huge fan now.I should also mention they're incredibly lightweight. REALLY good clamp without giving me a headache either. Also unlike the xm5, the build quality is great despite them feeling so lightweight - proving you don't need to sacrifice build quality for weight.\",\n          \"I love these headphones. I decided on the XM4 over XM5 because of the reviews. They're comfortable, stay on, and the sound quality is amazing. I always wear these on the plane. I tend not to use them while working out because it's hot and humid where I live.\",\n          \"I wear prescription glasses all the time and over the ear headphones have been an issue forever. Typically the headphones would press against my glasses and cause pain / indentation near my temple and ears. These Sony are so comfy and durable I don't have any pain. The app allows for custom configuration to ensure awesome performance. Noise cancel works great, the auto switch while talking could use some work. Buttons are digital sense and take some time to get use to if your not familiar with them already carry case is bulky but headphones don't fold down as small and provides adequate protection for traveling.\"\n        ],\n        \"semantic_type\": \"\",\n        \"description\": \"\"\n      }\n    },\n    {\n      \"column\": \"timestamp\",\n      \"properties\": {\n        \"dtype\": \"string\",\n        \"num_unique_values\": 551,\n        \"samples\": [\n          \"Reviewed in the United States December 1, 2018\",\n          \"Reviewed in the United States August 16, 2023\",\n          \"Reviewed in the United States November 22, 2019\"\n        ],\n        \"semantic_type\": \"\",\n        \"description\": \"\"\n      }\n    },\n    {\n      \"column\": \"profile_id\",\n      \"properties\": {\n        \"dtype\": \"string\",\n        \"num_unique_values\": 996,\n        \"samples\": [\n          \"AHROUA7CNPZ5MIZVJCOVXQBM4MZQ\",\n          \"AFPPCRWK4WPJCJJHHO72SVOMZOKQ\",\n          \"AH4GZFH3BWFUJTLJ7P4QEFSWGZYA\"\n        ],\n        \"semantic_type\": \"\",\n        \"description\": \"\"\n      }\n    },\n    {\n      \"column\": \"is_verified\",\n      \"properties\": {\n        \"dtype\": \"boolean\",\n        \"num_unique_values\": 1,\n        \"samples\": [\n          true\n        ],\n        \"semantic_type\": \"\",\n        \"description\": \"\"\n      }\n    },\n    {\n      \"column\": \"helpful_count\",\n      \"properties\": {\n        \"dtype\": \"number\",\n        \"std\": 101,\n        \"min\": 0,\n        \"max\": 1915,\n        \"num_unique_values\": 98,\n        \"samples\": [\n          19\n        ],\n        \"semantic_type\": \"\",\n        \"description\": \"\"\n      }\n    },\n    {\n      \"column\": \"product_attributes\",\n      \"properties\": {\n        \"dtype\": \"category\",\n        \"num_unique_values\": 30,\n        \"samples\": [\n          \"Style: Black\"\n        ],\n        \"semantic_type\": \"\",\n        \"description\": \"\"\n      }\n    }\n  ]\n}",
              "type": "dataframe"
            },
            "text/html": [
              "\n",
              "  <div id=\"df-ac704e7a-3e45-4ab8-ab30-27e8e132f9cb\" class=\"colab-df-container\">\n",
              "    <div>\n",
              "<style scoped>\n",
              "    .dataframe tbody tr th:only-of-type {\n",
              "        vertical-align: middle;\n",
              "    }\n",
              "\n",
              "    .dataframe tbody tr th {\n",
              "        vertical-align: top;\n",
              "    }\n",
              "\n",
              "    .dataframe thead th {\n",
              "        text-align: right;\n",
              "    }\n",
              "</style>\n",
              "<table border=\"1\" class=\"dataframe\">\n",
              "  <thead>\n",
              "    <tr style=\"text-align: right;\">\n",
              "      <th></th>\n",
              "      <th>review_id</th>\n",
              "      <th>product_id</th>\n",
              "      <th>title</th>\n",
              "      <th>author</th>\n",
              "      <th>rating</th>\n",
              "      <th>content</th>\n",
              "      <th>timestamp</th>\n",
              "      <th>profile_id</th>\n",
              "      <th>is_verified</th>\n",
              "      <th>helpful_count</th>\n",
              "      <th>product_attributes</th>\n",
              "    </tr>\n",
              "  </thead>\n",
              "  <tbody>\n",
              "    <tr>\n",
              "      <th>0</th>\n",
              "      <td>R3IZCMYPSVY5MD</td>\n",
              "      <td>B00004SY4H</td>\n",
              "      <td>5.0 out of 5 stars So Nice, I Bought Them Twice</td>\n",
              "      <td>Alice Majdali</td>\n",
              "      <td>5</td>\n",
              "      <td>Updated (6/20/21) - HD600's are still a great ...</td>\n",
              "      <td>Reviewed in the United States June 19, 2017</td>\n",
              "      <td>AEMGPCOP7KJAQSGPZRNU2DBE2AXQ</td>\n",
              "      <td>True</td>\n",
              "      <td>23</td>\n",
              "      <td>Unknown</td>\n",
              "    </tr>\n",
              "    <tr>\n",
              "      <th>1</th>\n",
              "      <td>R2SDQ12KSFZO7</td>\n",
              "      <td>B00004SY4H</td>\n",
              "      <td>5.0 out of 5 stars A great headphone for $300</td>\n",
              "      <td>Bleak</td>\n",
              "      <td>5</td>\n",
              "      <td>For $300, the HD600 even with it's current che...</td>\n",
              "      <td>Reviewed in the United States March 22, 2022</td>\n",
              "      <td>AHQANXFCWQKJCPESVD227DUEXJWA</td>\n",
              "      <td>True</td>\n",
              "      <td>10</td>\n",
              "      <td>Unknown</td>\n",
              "    </tr>\n",
              "    <tr>\n",
              "      <th>2</th>\n",
              "      <td>R4WSXVUD6BPH</td>\n",
              "      <td>B00004SY4H</td>\n",
              "      <td>5.0 out of 5 stars Beautiful Headphones</td>\n",
              "      <td>M. Rickard</td>\n",
              "      <td>5</td>\n",
              "      <td>I have sort of an emotional attachment to thes...</td>\n",
              "      <td>Reviewed in the United States October 13, 2013</td>\n",
              "      <td>AGKZFMYNH2OTED2PX6B2HLEEXACA</td>\n",
              "      <td>True</td>\n",
              "      <td>11</td>\n",
              "      <td>Unknown</td>\n",
              "    </tr>\n",
              "    <tr>\n",
              "      <th>3</th>\n",
              "      <td>RYZNEGJZXKINY</td>\n",
              "      <td>B00004SY4H</td>\n",
              "      <td>5.0 out of 5 stars These are legends for a rea...</td>\n",
              "      <td>IommiFan85</td>\n",
              "      <td>5</td>\n",
              "      <td>General Thoughts: Coming from the Philips X2 t...</td>\n",
              "      <td>Reviewed in the United States October 6, 2015</td>\n",
              "      <td>AEQKFTGXHXK4VZVNJ4OLMIJYYRUA</td>\n",
              "      <td>True</td>\n",
              "      <td>11</td>\n",
              "      <td>Unknown</td>\n",
              "    </tr>\n",
              "    <tr>\n",
              "      <th>4</th>\n",
              "      <td>R12JTTAEXZ62I0</td>\n",
              "      <td>B00004SY4H</td>\n",
              "      <td>4.0 out of 5 stars Solid. But not for recording.</td>\n",
              "      <td>Jamie</td>\n",
              "      <td>4</td>\n",
              "      <td>Overall sound is lovely! Very true to tone, wo...</td>\n",
              "      <td>Reviewed in the United States July 20, 2024</td>\n",
              "      <td>AFYBVINSYY5VPS2B734AAX5SCHEQ</td>\n",
              "      <td>True</td>\n",
              "      <td>0</td>\n",
              "      <td>Unknown</td>\n",
              "    </tr>\n",
              "    <tr>\n",
              "      <th>...</th>\n",
              "      <td>...</td>\n",
              "      <td>...</td>\n",
              "      <td>...</td>\n",
              "      <td>...</td>\n",
              "      <td>...</td>\n",
              "      <td>...</td>\n",
              "      <td>...</td>\n",
              "      <td>...</td>\n",
              "      <td>...</td>\n",
              "      <td>...</td>\n",
              "      <td>...</td>\n",
              "    </tr>\n",
              "    <tr>\n",
              "      <th>995</th>\n",
              "      <td>R1MC7OUB162CPK</td>\n",
              "      <td>B01AZ01E4A</td>\n",
              "      <td>3.0 out of 5 stars Sounds nice! Too bad about ...</td>\n",
              "      <td>Garland Cary</td>\n",
              "      <td>3</td>\n",
              "      <td>Full disclosure: I expect a lot from headphone...</td>\n",
              "      <td>Reviewed in the United States July 1, 2015</td>\n",
              "      <td>AE5ZHSX52JC3DOZYOPG6GW5IFG6A</td>\n",
              "      <td>True</td>\n",
              "      <td>35</td>\n",
              "      <td>Style: Black</td>\n",
              "    </tr>\n",
              "    <tr>\n",
              "      <th>996</th>\n",
              "      <td>RT1RKPF0O4KZ1</td>\n",
              "      <td>B01AZ01E4A</td>\n",
              "      <td>5.0 out of 5 stars A spectacular, neutral pair...</td>\n",
              "      <td>Amanda Bowden</td>\n",
              "      <td>5</td>\n",
              "      <td>The MSR7 has crisp highs, tight lows, and has ...</td>\n",
              "      <td>Reviewed in the United States April 1, 2018</td>\n",
              "      <td>AGFZHSOYRXH4HU3T4WYXPR6YEESQ</td>\n",
              "      <td>True</td>\n",
              "      <td>2</td>\n",
              "      <td>Style: Gun-Metal Grey</td>\n",
              "    </tr>\n",
              "    <tr>\n",
              "      <th>997</th>\n",
              "      <td>R24Y77S7ZX35CW</td>\n",
              "      <td>B01AZ01E4A</td>\n",
              "      <td>2.0 out of 5 stars Ear Pads and head band dete...</td>\n",
              "      <td>Traveler</td>\n",
              "      <td>2</td>\n",
              "      <td>I have had these headphones now for over a yea...</td>\n",
              "      <td>Reviewed in the United States June 10, 2022</td>\n",
              "      <td>AFSEMSSFBAGK2VOK2DEW5BLVHLAQ</td>\n",
              "      <td>True</td>\n",
              "      <td>3</td>\n",
              "      <td>Style: Gun-Metal Grey</td>\n",
              "    </tr>\n",
              "    <tr>\n",
              "      <th>998</th>\n",
              "      <td>R2A0T5VSGDAVX2</td>\n",
              "      <td>B01AZ01E4A</td>\n",
              "      <td>4.0 out of 5 stars Bright, clean (not heavy) b...</td>\n",
              "      <td>FLY1NGSQU1RR3L</td>\n",
              "      <td>4</td>\n",
              "      <td>There are some pretty stellar reviews in here ...</td>\n",
              "      <td>Reviewed in the United States January 24, 2019</td>\n",
              "      <td>AFFFCFFTQBJELHIZMGFTYXBBJKUA</td>\n",
              "      <td>True</td>\n",
              "      <td>7</td>\n",
              "      <td>Style: Gun-Metal Grey</td>\n",
              "    </tr>\n",
              "    <tr>\n",
              "      <th>999</th>\n",
              "      <td>R3SXQUE6DISDX4</td>\n",
              "      <td>B01AZ01E4A</td>\n",
              "      <td>4.0 out of 5 stars Excellent headphones with a...</td>\n",
              "      <td>jimmy</td>\n",
              "      <td>4</td>\n",
              "      <td>From a purely audio perspective, the SonicPro ...</td>\n",
              "      <td>Reviewed in the United States July 10, 2017</td>\n",
              "      <td>AGWFRYI6T7AHCSDJ3ZXQZOTC4HLQ</td>\n",
              "      <td>True</td>\n",
              "      <td>4</td>\n",
              "      <td>Style: Gun-Metal Grey</td>\n",
              "    </tr>\n",
              "  </tbody>\n",
              "</table>\n",
              "<p>1000 rows × 11 columns</p>\n",
              "</div>\n",
              "    <div class=\"colab-df-buttons\">\n",
              "\n",
              "  <div class=\"colab-df-container\">\n",
              "    <button class=\"colab-df-convert\" onclick=\"convertToInteractive('df-ac704e7a-3e45-4ab8-ab30-27e8e132f9cb')\"\n",
              "            title=\"Convert this dataframe to an interactive table.\"\n",
              "            style=\"display:none;\">\n",
              "\n",
              "  <svg xmlns=\"http://www.w3.org/2000/svg\" height=\"24px\" viewBox=\"0 -960 960 960\">\n",
              "    <path d=\"M120-120v-720h720v720H120Zm60-500h600v-160H180v160Zm220 220h160v-160H400v160Zm0 220h160v-160H400v160ZM180-400h160v-160H180v160Zm440 0h160v-160H620v160ZM180-180h160v-160H180v160Zm440 0h160v-160H620v160Z\"/>\n",
              "  </svg>\n",
              "    </button>\n",
              "\n",
              "  <style>\n",
              "    .colab-df-container {\n",
              "      display:flex;\n",
              "      gap: 12px;\n",
              "    }\n",
              "\n",
              "    .colab-df-convert {\n",
              "      background-color: #E8F0FE;\n",
              "      border: none;\n",
              "      border-radius: 50%;\n",
              "      cursor: pointer;\n",
              "      display: none;\n",
              "      fill: #1967D2;\n",
              "      height: 32px;\n",
              "      padding: 0 0 0 0;\n",
              "      width: 32px;\n",
              "    }\n",
              "\n",
              "    .colab-df-convert:hover {\n",
              "      background-color: #E2EBFA;\n",
              "      box-shadow: 0px 1px 2px rgba(60, 64, 67, 0.3), 0px 1px 3px 1px rgba(60, 64, 67, 0.15);\n",
              "      fill: #174EA6;\n",
              "    }\n",
              "\n",
              "    .colab-df-buttons div {\n",
              "      margin-bottom: 4px;\n",
              "    }\n",
              "\n",
              "    [theme=dark] .colab-df-convert {\n",
              "      background-color: #3B4455;\n",
              "      fill: #D2E3FC;\n",
              "    }\n",
              "\n",
              "    [theme=dark] .colab-df-convert:hover {\n",
              "      background-color: #434B5C;\n",
              "      box-shadow: 0px 1px 3px 1px rgba(0, 0, 0, 0.15);\n",
              "      filter: drop-shadow(0px 1px 2px rgba(0, 0, 0, 0.3));\n",
              "      fill: #FFFFFF;\n",
              "    }\n",
              "  </style>\n",
              "\n",
              "    <script>\n",
              "      const buttonEl =\n",
              "        document.querySelector('#df-ac704e7a-3e45-4ab8-ab30-27e8e132f9cb button.colab-df-convert');\n",
              "      buttonEl.style.display =\n",
              "        google.colab.kernel.accessAllowed ? 'block' : 'none';\n",
              "\n",
              "      async function convertToInteractive(key) {\n",
              "        const element = document.querySelector('#df-ac704e7a-3e45-4ab8-ab30-27e8e132f9cb');\n",
              "        const dataTable =\n",
              "          await google.colab.kernel.invokeFunction('convertToInteractive',\n",
              "                                                    [key], {});\n",
              "        if (!dataTable) return;\n",
              "\n",
              "        const docLinkHtml = 'Like what you see? Visit the ' +\n",
              "          '<a target=\"_blank\" href=https://colab.research.google.com/notebooks/data_table.ipynb>data table notebook</a>'\n",
              "          + ' to learn more about interactive tables.';\n",
              "        element.innerHTML = '';\n",
              "        dataTable['output_type'] = 'display_data';\n",
              "        await google.colab.output.renderOutput(dataTable, element);\n",
              "        const docLink = document.createElement('div');\n",
              "        docLink.innerHTML = docLinkHtml;\n",
              "        element.appendChild(docLink);\n",
              "      }\n",
              "    </script>\n",
              "  </div>\n",
              "\n",
              "\n",
              "<div id=\"df-a7561a09-fa28-4d52-8127-9b939980ec4a\">\n",
              "  <button class=\"colab-df-quickchart\" onclick=\"quickchart('df-a7561a09-fa28-4d52-8127-9b939980ec4a')\"\n",
              "            title=\"Suggest charts\"\n",
              "            style=\"display:none;\">\n",
              "\n",
              "<svg xmlns=\"http://www.w3.org/2000/svg\" height=\"24px\"viewBox=\"0 0 24 24\"\n",
              "     width=\"24px\">\n",
              "    <g>\n",
              "        <path d=\"M19 3H5c-1.1 0-2 .9-2 2v14c0 1.1.9 2 2 2h14c1.1 0 2-.9 2-2V5c0-1.1-.9-2-2-2zM9 17H7v-7h2v7zm4 0h-2V7h2v10zm4 0h-2v-4h2v4z\"/>\n",
              "    </g>\n",
              "</svg>\n",
              "  </button>\n",
              "\n",
              "<style>\n",
              "  .colab-df-quickchart {\n",
              "      --bg-color: #E8F0FE;\n",
              "      --fill-color: #1967D2;\n",
              "      --hover-bg-color: #E2EBFA;\n",
              "      --hover-fill-color: #174EA6;\n",
              "      --disabled-fill-color: #AAA;\n",
              "      --disabled-bg-color: #DDD;\n",
              "  }\n",
              "\n",
              "  [theme=dark] .colab-df-quickchart {\n",
              "      --bg-color: #3B4455;\n",
              "      --fill-color: #D2E3FC;\n",
              "      --hover-bg-color: #434B5C;\n",
              "      --hover-fill-color: #FFFFFF;\n",
              "      --disabled-bg-color: #3B4455;\n",
              "      --disabled-fill-color: #666;\n",
              "  }\n",
              "\n",
              "  .colab-df-quickchart {\n",
              "    background-color: var(--bg-color);\n",
              "    border: none;\n",
              "    border-radius: 50%;\n",
              "    cursor: pointer;\n",
              "    display: none;\n",
              "    fill: var(--fill-color);\n",
              "    height: 32px;\n",
              "    padding: 0;\n",
              "    width: 32px;\n",
              "  }\n",
              "\n",
              "  .colab-df-quickchart:hover {\n",
              "    background-color: var(--hover-bg-color);\n",
              "    box-shadow: 0 1px 2px rgba(60, 64, 67, 0.3), 0 1px 3px 1px rgba(60, 64, 67, 0.15);\n",
              "    fill: var(--button-hover-fill-color);\n",
              "  }\n",
              "\n",
              "  .colab-df-quickchart-complete:disabled,\n",
              "  .colab-df-quickchart-complete:disabled:hover {\n",
              "    background-color: var(--disabled-bg-color);\n",
              "    fill: var(--disabled-fill-color);\n",
              "    box-shadow: none;\n",
              "  }\n",
              "\n",
              "  .colab-df-spinner {\n",
              "    border: 2px solid var(--fill-color);\n",
              "    border-color: transparent;\n",
              "    border-bottom-color: var(--fill-color);\n",
              "    animation:\n",
              "      spin 1s steps(1) infinite;\n",
              "  }\n",
              "\n",
              "  @keyframes spin {\n",
              "    0% {\n",
              "      border-color: transparent;\n",
              "      border-bottom-color: var(--fill-color);\n",
              "      border-left-color: var(--fill-color);\n",
              "    }\n",
              "    20% {\n",
              "      border-color: transparent;\n",
              "      border-left-color: var(--fill-color);\n",
              "      border-top-color: var(--fill-color);\n",
              "    }\n",
              "    30% {\n",
              "      border-color: transparent;\n",
              "      border-left-color: var(--fill-color);\n",
              "      border-top-color: var(--fill-color);\n",
              "      border-right-color: var(--fill-color);\n",
              "    }\n",
              "    40% {\n",
              "      border-color: transparent;\n",
              "      border-right-color: var(--fill-color);\n",
              "      border-top-color: var(--fill-color);\n",
              "    }\n",
              "    60% {\n",
              "      border-color: transparent;\n",
              "      border-right-color: var(--fill-color);\n",
              "    }\n",
              "    80% {\n",
              "      border-color: transparent;\n",
              "      border-right-color: var(--fill-color);\n",
              "      border-bottom-color: var(--fill-color);\n",
              "    }\n",
              "    90% {\n",
              "      border-color: transparent;\n",
              "      border-bottom-color: var(--fill-color);\n",
              "    }\n",
              "  }\n",
              "</style>\n",
              "\n",
              "  <script>\n",
              "    async function quickchart(key) {\n",
              "      const quickchartButtonEl =\n",
              "        document.querySelector('#' + key + ' button');\n",
              "      quickchartButtonEl.disabled = true;  // To prevent multiple clicks.\n",
              "      quickchartButtonEl.classList.add('colab-df-spinner');\n",
              "      try {\n",
              "        const charts = await google.colab.kernel.invokeFunction(\n",
              "            'suggestCharts', [key], {});\n",
              "      } catch (error) {\n",
              "        console.error('Error during call to suggestCharts:', error);\n",
              "      }\n",
              "      quickchartButtonEl.classList.remove('colab-df-spinner');\n",
              "      quickchartButtonEl.classList.add('colab-df-quickchart-complete');\n",
              "    }\n",
              "    (() => {\n",
              "      let quickchartButtonEl =\n",
              "        document.querySelector('#df-a7561a09-fa28-4d52-8127-9b939980ec4a button');\n",
              "      quickchartButtonEl.style.display =\n",
              "        google.colab.kernel.accessAllowed ? 'block' : 'none';\n",
              "    })();\n",
              "  </script>\n",
              "</div>\n",
              "\n",
              "    </div>\n",
              "  </div>\n"
            ],
            "text/plain": [
              "          review_id  product_id  \\\n",
              "0    R3IZCMYPSVY5MD  B00004SY4H   \n",
              "1     R2SDQ12KSFZO7  B00004SY4H   \n",
              "2      R4WSXVUD6BPH  B00004SY4H   \n",
              "3     RYZNEGJZXKINY  B00004SY4H   \n",
              "4    R12JTTAEXZ62I0  B00004SY4H   \n",
              "..              ...         ...   \n",
              "995  R1MC7OUB162CPK  B01AZ01E4A   \n",
              "996   RT1RKPF0O4KZ1  B01AZ01E4A   \n",
              "997  R24Y77S7ZX35CW  B01AZ01E4A   \n",
              "998  R2A0T5VSGDAVX2  B01AZ01E4A   \n",
              "999  R3SXQUE6DISDX4  B01AZ01E4A   \n",
              "\n",
              "                                                 title          author  \\\n",
              "0      5.0 out of 5 stars So Nice, I Bought Them Twice   Alice Majdali   \n",
              "1        5.0 out of 5 stars A great headphone for $300           Bleak   \n",
              "2              5.0 out of 5 stars Beautiful Headphones      M. Rickard   \n",
              "3    5.0 out of 5 stars These are legends for a rea...      IommiFan85   \n",
              "4     4.0 out of 5 stars Solid. But not for recording.           Jamie   \n",
              "..                                                 ...             ...   \n",
              "995  3.0 out of 5 stars Sounds nice! Too bad about ...    Garland Cary   \n",
              "996  5.0 out of 5 stars A spectacular, neutral pair...   Amanda Bowden   \n",
              "997  2.0 out of 5 stars Ear Pads and head band dete...        Traveler   \n",
              "998  4.0 out of 5 stars Bright, clean (not heavy) b...  FLY1NGSQU1RR3L   \n",
              "999  4.0 out of 5 stars Excellent headphones with a...           jimmy   \n",
              "\n",
              "     rating                                            content  \\\n",
              "0         5  Updated (6/20/21) - HD600's are still a great ...   \n",
              "1         5  For $300, the HD600 even with it's current che...   \n",
              "2         5  I have sort of an emotional attachment to thes...   \n",
              "3         5  General Thoughts: Coming from the Philips X2 t...   \n",
              "4         4  Overall sound is lovely! Very true to tone, wo...   \n",
              "..      ...                                                ...   \n",
              "995       3  Full disclosure: I expect a lot from headphone...   \n",
              "996       5  The MSR7 has crisp highs, tight lows, and has ...   \n",
              "997       2  I have had these headphones now for over a yea...   \n",
              "998       4  There are some pretty stellar reviews in here ...   \n",
              "999       4  From a purely audio perspective, the SonicPro ...   \n",
              "\n",
              "                                          timestamp  \\\n",
              "0       Reviewed in the United States June 19, 2017   \n",
              "1      Reviewed in the United States March 22, 2022   \n",
              "2    Reviewed in the United States October 13, 2013   \n",
              "3     Reviewed in the United States October 6, 2015   \n",
              "4       Reviewed in the United States July 20, 2024   \n",
              "..                                              ...   \n",
              "995      Reviewed in the United States July 1, 2015   \n",
              "996     Reviewed in the United States April 1, 2018   \n",
              "997     Reviewed in the United States June 10, 2022   \n",
              "998  Reviewed in the United States January 24, 2019   \n",
              "999     Reviewed in the United States July 10, 2017   \n",
              "\n",
              "                       profile_id  is_verified  helpful_count  \\\n",
              "0    AEMGPCOP7KJAQSGPZRNU2DBE2AXQ         True             23   \n",
              "1    AHQANXFCWQKJCPESVD227DUEXJWA         True             10   \n",
              "2    AGKZFMYNH2OTED2PX6B2HLEEXACA         True             11   \n",
              "3    AEQKFTGXHXK4VZVNJ4OLMIJYYRUA         True             11   \n",
              "4    AFYBVINSYY5VPS2B734AAX5SCHEQ         True              0   \n",
              "..                            ...          ...            ...   \n",
              "995  AE5ZHSX52JC3DOZYOPG6GW5IFG6A         True             35   \n",
              "996  AGFZHSOYRXH4HU3T4WYXPR6YEESQ         True              2   \n",
              "997  AFSEMSSFBAGK2VOK2DEW5BLVHLAQ         True              3   \n",
              "998  AFFFCFFTQBJELHIZMGFTYXBBJKUA         True              7   \n",
              "999  AGWFRYI6T7AHCSDJ3ZXQZOTC4HLQ         True              4   \n",
              "\n",
              "        product_attributes  \n",
              "0                  Unknown  \n",
              "1                  Unknown  \n",
              "2                  Unknown  \n",
              "3                  Unknown  \n",
              "4                  Unknown  \n",
              "..                     ...  \n",
              "995           Style: Black  \n",
              "996  Style: Gun-Metal Grey  \n",
              "997  Style: Gun-Metal Grey  \n",
              "998  Style: Gun-Metal Grey  \n",
              "999  Style: Gun-Metal Grey  \n",
              "\n",
              "[1000 rows x 11 columns]"
            ]
          },
          "execution_count": 5,
          "metadata": {},
          "output_type": "execute_result"
        }
      ],
      "source": [
        "data['product_attributes']= data['product_attributes'].fillna('Unknown')\n",
        "data[data['product_attributes'].isnull()]\n",
        "#removing duplicate rows\n",
        "data.drop_duplicates()"
      ]
    },
    {
      "cell_type": "markdown",
      "metadata": {
        "id": "EGSYqV7iEPTR"
      },
      "source": [
        "Changing the type of data from objects into string, datetime and integers in order to do a better analysis. I changed the timestamp of the reviews into datetime, text content into strings and isverified stamp into integers"
      ]
    },
    {
      "cell_type": "code",
      "execution_count": null,
      "metadata": {
        "colab": {
          "base_uri": "https://localhost:8080/"
        },
        "id": "fQ8eebLdEOIC",
        "outputId": "e9671f29-cf98-4e7f-bcc4-38fa7b760a1f"
      },
      "outputs": [
        {
          "name": "stdout",
          "output_type": "stream",
          "text": [
            "<class 'pandas.core.frame.DataFrame'>\n",
            "RangeIndex: 1000 entries, 0 to 999\n",
            "Data columns (total 11 columns):\n",
            " #   Column              Non-Null Count  Dtype         \n",
            "---  ------              --------------  -----         \n",
            " 0   review_id           1000 non-null   string        \n",
            " 1   product_id          1000 non-null   string        \n",
            " 2   title               1000 non-null   string        \n",
            " 3   author              1000 non-null   string        \n",
            " 4   rating              1000 non-null   int64         \n",
            " 5   content             1000 non-null   string        \n",
            " 6   timestamp           1000 non-null   datetime64[ns]\n",
            " 7   profile_id          1000 non-null   string        \n",
            " 8   is_verified         1000 non-null   int64         \n",
            " 9   helpful_count       1000 non-null   int64         \n",
            " 10  product_attributes  1000 non-null   string        \n",
            "dtypes: datetime64[ns](1), int64(3), string(7)\n",
            "memory usage: 86.1 KB\n"
          ]
        }
      ],
      "source": [
        "#Change to relevant datatypes for better aid in analysis\n",
        "data['timestamp'] = pd.to_datetime(data['timestamp'].str.extract(r'(\\w+ \\d{1,2}, \\d{4})')[0])\n",
        "data['review_id'] = data['review_id'].astype('string')\n",
        "data['product_id'] = data['product_id'].astype('string')\n",
        "data['title'] = data['title'].astype('string')\n",
        "data['author'] = data['author'].astype('string')\n",
        "data['content'] = data['content'].astype('string')\n",
        "data['profile_id'] = data['profile_id'].astype('string')\n",
        "data['is_verified'] = data['is_verified'].astype('int64')\n",
        "data['product_attributes'] = data['product_attributes'].astype('string')\n",
        "data.info()"
      ]
    },
    {
      "cell_type": "markdown",
      "metadata": {
        "id": "7LQuEuuKgHJc"
      },
      "source": [
        "## 5. Exploratory Data Analysis (EDA)\n",
        "\n",
        "### 5.1 Data Overview\n",
        "\n",
        "*   Dataset comprises of 1000 gathered and cleaned reviews ready for introspection\n",
        "*   Each review has 11 attributes which includes **review_id, timstamp, review content, star ratings** and much more.\n",
        "*   Populated product names of the respective product IDs.\n",
        "\n"
      ]
    },
    {
      "cell_type": "code",
      "execution_count": null,
      "metadata": {
        "id": "AYyWyohMfjaw"
      },
      "outputs": [],
      "source": [
        "data[\"product_name\"]=''\n",
        "data.loc[data['product_id'] == 'B00004SY4H', 'product_name'] = 'Sennheiser Consumer Audio HD 600 - Audiophile Hi-Res Open Back Dynamic Headphone, Black'\n",
        "data.loc[data['product_id'] == 'B07DHHXZRN', 'product_name'] = 'Beats Studio3 Wireless Noise Cancelling On-Ear Headphones - Apple W1 Headphone Chip, Class 1 Bluetooth, Active Noise Cancelling, 22 Hours Of Listening Time - Defiant Black-Red'\n",
        "data.loc[data['product_id'] == 'B0BXYCS74H', 'product_name'] = 'Sony WH-1000XM5 The Best Wireless Noise Canceling Headphones with Auto Noise Canceling Optimizer, Crystal Clear Hands-Free Calling, and Alexa Voice Control, Midnight Blue'\n",
        "data.loc[data['product_id'] == 'B0CCZ1L489', 'product_name'] = 'Bose QuietComfort Ultra Bluetooth Headphones, Wireless Headphones with Spatial Audio, Over Ear Noise Cancelling Headphones with Mic, Up To 24 Hours of Battery Life, Black'\n",
        "data.loc[data['product_id'] == 'B00SC80YLM', 'product_name'] = 'Audio-Technica ATH-M70X Closed-Back Dynamic Professional Studio Monitor Headphones, Black'\n",
        "data.loc[data['product_id'] == 'B0B6GHW1SX', 'product_name'] = 'Sennheiser Consumer Audio Momentum 4 Wireless Headphones - Bluetooth Headset for Crystal-Clear Calls with Adaptive Noise Cancellation, 60h Battery Life, Lightweight Folding Design - Black'\n",
        "data.loc[data['product_id'] == 'B0CCZ26B5V', 'product_name'] = 'Bose QuietComfort Bluetooth Headphones, Wireless Headphones, Over Ear Noise Cancelling Headphones with Mic, Up To 24 Hours of Battery Life, Black'\n",
        "data.loc[data['product_id'] == 'B0CMZD8688', 'product_name'] = 'Beats Studio Pro with AppleCare+ for Headphones (2 Years) - Deep Brown'\n",
        "data.loc[data['product_id'] == 'B0863TXGM3', 'product_name'] = 'Sony WH-1000XM4 Wireless Premium Noise Canceling Overhead Headphones with Mic for Phone-Call and Alexa Voice Control, Black WH1000XM4'\n",
        "data.loc[data['product_id'] == 'B01AZ01E4A', 'product_name'] = 'Audio-Technica ATH-MSR7NC SonicPro High-Resolution Headphones with Active Noise Cancellation'\n"
      ]
    },
    {
      "cell_type": "code",
      "execution_count": null,
      "metadata": {
        "colab": {
          "base_uri": "https://localhost:8080/",
          "height": 53
        },
        "id": "HXTgzclLgLFb",
        "outputId": "668068d1-a74b-44b3-f335-c7032d8fecef"
      },
      "outputs": [
        {
          "data": {
            "application/vnd.google.colaboratory.intrinsic+json": {
              "repr_error": "Out of range float values are not JSON compliant: nan",
              "type": "dataframe"
            },
            "text/html": [
              "\n",
              "  <div id=\"df-920d089c-5f88-410e-b7fd-78d16a0769d0\" class=\"colab-df-container\">\n",
              "    <div>\n",
              "<style scoped>\n",
              "    .dataframe tbody tr th:only-of-type {\n",
              "        vertical-align: middle;\n",
              "    }\n",
              "\n",
              "    .dataframe tbody tr th {\n",
              "        vertical-align: top;\n",
              "    }\n",
              "\n",
              "    .dataframe thead th {\n",
              "        text-align: right;\n",
              "    }\n",
              "</style>\n",
              "<table border=\"1\" class=\"dataframe\">\n",
              "  <thead>\n",
              "    <tr style=\"text-align: right;\">\n",
              "      <th></th>\n",
              "      <th>review_id</th>\n",
              "      <th>product_id</th>\n",
              "      <th>title</th>\n",
              "      <th>author</th>\n",
              "      <th>rating</th>\n",
              "      <th>content</th>\n",
              "      <th>timestamp</th>\n",
              "      <th>profile_id</th>\n",
              "      <th>is_verified</th>\n",
              "      <th>helpful_count</th>\n",
              "      <th>product_attributes</th>\n",
              "      <th>product_name</th>\n",
              "      <th>brand_name</th>\n",
              "    </tr>\n",
              "  </thead>\n",
              "  <tbody>\n",
              "  </tbody>\n",
              "</table>\n",
              "</div>\n",
              "    <div class=\"colab-df-buttons\">\n",
              "\n",
              "  <div class=\"colab-df-container\">\n",
              "    <button class=\"colab-df-convert\" onclick=\"convertToInteractive('df-920d089c-5f88-410e-b7fd-78d16a0769d0')\"\n",
              "            title=\"Convert this dataframe to an interactive table.\"\n",
              "            style=\"display:none;\">\n",
              "\n",
              "  <svg xmlns=\"http://www.w3.org/2000/svg\" height=\"24px\" viewBox=\"0 -960 960 960\">\n",
              "    <path d=\"M120-120v-720h720v720H120Zm60-500h600v-160H180v160Zm220 220h160v-160H400v160Zm0 220h160v-160H400v160ZM180-400h160v-160H180v160Zm440 0h160v-160H620v160ZM180-180h160v-160H180v160Zm440 0h160v-160H620v160Z\"/>\n",
              "  </svg>\n",
              "    </button>\n",
              "\n",
              "  <style>\n",
              "    .colab-df-container {\n",
              "      display:flex;\n",
              "      gap: 12px;\n",
              "    }\n",
              "\n",
              "    .colab-df-convert {\n",
              "      background-color: #E8F0FE;\n",
              "      border: none;\n",
              "      border-radius: 50%;\n",
              "      cursor: pointer;\n",
              "      display: none;\n",
              "      fill: #1967D2;\n",
              "      height: 32px;\n",
              "      padding: 0 0 0 0;\n",
              "      width: 32px;\n",
              "    }\n",
              "\n",
              "    .colab-df-convert:hover {\n",
              "      background-color: #E2EBFA;\n",
              "      box-shadow: 0px 1px 2px rgba(60, 64, 67, 0.3), 0px 1px 3px 1px rgba(60, 64, 67, 0.15);\n",
              "      fill: #174EA6;\n",
              "    }\n",
              "\n",
              "    .colab-df-buttons div {\n",
              "      margin-bottom: 4px;\n",
              "    }\n",
              "\n",
              "    [theme=dark] .colab-df-convert {\n",
              "      background-color: #3B4455;\n",
              "      fill: #D2E3FC;\n",
              "    }\n",
              "\n",
              "    [theme=dark] .colab-df-convert:hover {\n",
              "      background-color: #434B5C;\n",
              "      box-shadow: 0px 1px 3px 1px rgba(0, 0, 0, 0.15);\n",
              "      filter: drop-shadow(0px 1px 2px rgba(0, 0, 0, 0.3));\n",
              "      fill: #FFFFFF;\n",
              "    }\n",
              "  </style>\n",
              "\n",
              "    <script>\n",
              "      const buttonEl =\n",
              "        document.querySelector('#df-920d089c-5f88-410e-b7fd-78d16a0769d0 button.colab-df-convert');\n",
              "      buttonEl.style.display =\n",
              "        google.colab.kernel.accessAllowed ? 'block' : 'none';\n",
              "\n",
              "      async function convertToInteractive(key) {\n",
              "        const element = document.querySelector('#df-920d089c-5f88-410e-b7fd-78d16a0769d0');\n",
              "        const dataTable =\n",
              "          await google.colab.kernel.invokeFunction('convertToInteractive',\n",
              "                                                    [key], {});\n",
              "        if (!dataTable) return;\n",
              "\n",
              "        const docLinkHtml = 'Like what you see? Visit the ' +\n",
              "          '<a target=\"_blank\" href=https://colab.research.google.com/notebooks/data_table.ipynb>data table notebook</a>'\n",
              "          + ' to learn more about interactive tables.';\n",
              "        element.innerHTML = '';\n",
              "        dataTable['output_type'] = 'display_data';\n",
              "        await google.colab.output.renderOutput(dataTable, element);\n",
              "        const docLink = document.createElement('div');\n",
              "        docLink.innerHTML = docLinkHtml;\n",
              "        element.appendChild(docLink);\n",
              "      }\n",
              "    </script>\n",
              "  </div>\n",
              "\n",
              "\n",
              "    </div>\n",
              "  </div>\n"
            ],
            "text/plain": [
              "Empty DataFrame\n",
              "Columns: [review_id, product_id, title, author, rating, content, timestamp, profile_id, is_verified, helpful_count, product_attributes, product_name, brand_name]\n",
              "Index: []"
            ]
          },
          "execution_count": 8,
          "metadata": {},
          "output_type": "execute_result"
        }
      ],
      "source": [
        "#Retrieving brand names\n",
        "data['brand_name']=data['product_name'].str.split().str[0]\n",
        "# Convert 'timestamp' column to datetime\n",
        "data['timestamp'] = pd.to_datetime(data['timestamp'])\n",
        "#Check non verified reviews\n",
        "data[data['is_verified'] == 0]"
      ]
    },
    {
      "cell_type": "markdown",
      "metadata": {
        "id": "W4HlsRkHcmwu"
      },
      "source": [
        "All reviews are verified and the above code snippet creates a new column 'brand_name' and extracts brand names from the product names to populate these columns. Below is the dataset summary including key statistics."
      ]
    },
    {
      "cell_type": "code",
      "execution_count": null,
      "metadata": {
        "colab": {
          "base_uri": "https://localhost:8080/"
        },
        "id": "kLuwy2RUhCLN",
        "outputId": "5d1af3b3-f48c-4e1d-e27d-473685c0c464"
      },
      "outputs": [
        {
          "name": "stdout",
          "output_type": "stream",
          "text": [
            "<class 'pandas.core.frame.DataFrame'>\n",
            "RangeIndex: 1000 entries, 0 to 999\n",
            "Data columns (total 13 columns):\n",
            " #   Column              Non-Null Count  Dtype         \n",
            "---  ------              --------------  -----         \n",
            " 0   review_id           1000 non-null   string        \n",
            " 1   product_id          1000 non-null   string        \n",
            " 2   title               1000 non-null   string        \n",
            " 3   author              1000 non-null   string        \n",
            " 4   rating              1000 non-null   int64         \n",
            " 5   content             1000 non-null   string        \n",
            " 6   timestamp           1000 non-null   datetime64[ns]\n",
            " 7   profile_id          1000 non-null   string        \n",
            " 8   is_verified         1000 non-null   int64         \n",
            " 9   helpful_count       1000 non-null   int64         \n",
            " 10  product_attributes  1000 non-null   string        \n",
            " 11  product_name        1000 non-null   object        \n",
            " 12  brand_name          1000 non-null   object        \n",
            "dtypes: datetime64[ns](1), int64(3), object(2), string(7)\n",
            "memory usage: 101.7+ KB\n"
          ]
        }
      ],
      "source": [
        "data.info()"
      ]
    },
    {
      "cell_type": "code",
      "execution_count": null,
      "metadata": {
        "colab": {
          "base_uri": "https://localhost:8080/"
        },
        "id": "_mEvJ-NCdifY",
        "outputId": "b1ad2f01-71a9-48a5-98f9-1453f253c610"
      },
      "outputs": [
        {
          "name": "stdout",
          "output_type": "stream",
          "text": [
            "Mean Rating: 4.454\n",
            "Median Rating: 5.0\n",
            "Mode Rating: 5\n",
            "Variance Rating: 0.6905745745745746\n",
            "Standard Deviation Rating: 0.8310081675739261\n",
            "Quantiles Rating: 0.25    4.0\n",
            "0.50    5.0\n",
            "0.75    5.0\n",
            "Name: rating, dtype: float64\n"
          ]
        }
      ],
      "source": [
        "#Provide descriptive statistics (mean, median, mode, variance, standard deviation).\n",
        "# Calculate descriptive statistics of Rating\n",
        "mean_rating = data['rating'].mean()\n",
        "median_rating = data['rating'].median()\n",
        "mode_rating = data['rating'].mode()[0]\n",
        "variance_rating = data['rating'].var()\n",
        "std_rating = data['rating'].std()\n",
        "quantiles_rating = data['rating'].quantile([0.25, 0.5, 0.75])\n",
        "\n",
        "print(\"Mean Rating:\", mean_rating)\n",
        "print(\"Median Rating:\", median_rating)\n",
        "print(\"Mode Rating:\", mode_rating)\n",
        "print(\"Variance Rating:\", variance_rating)\n",
        "print(\"Standard Deviation Rating:\", std_rating)\n",
        "print(\"Quantiles Rating:\", quantiles_rating)"
      ]
    },
    {
      "cell_type": "code",
      "execution_count": null,
      "metadata": {
        "colab": {
          "base_uri": "https://localhost:8080/"
        },
        "id": "iOVr4i4Vd2vJ",
        "outputId": "b380c467-e52c-4dd7-b43b-b035773dc174"
      },
      "outputs": [
        {
          "name": "stdout",
          "output_type": "stream",
          "text": [
            "Mean Helpful Count: 17.885\n",
            "Median Helpful Count: 1.0\n",
            "Mode Helpful Count: 0\n",
            "Variance Helpful Count: 10225.355130130132\n",
            "Standard Deviation Helpful Count: 101.12049807101492\n",
            "Quantiles Helpful Count: 0.25    0.0\n",
            "0.50    1.0\n",
            "0.75    4.0\n",
            "Name: helpful_count, dtype: float64\n"
          ]
        }
      ],
      "source": [
        "# Calculate descriptive statistics of Helpful Count\n",
        "mean_helpfulcount = data['helpful_count'].mean()\n",
        "median_helpfulcount = data['helpful_count'].median()\n",
        "mode_helpfulcount = data['helpful_count'].mode()[0]\n",
        "variance_helpfulcount = data['helpful_count'].var()\n",
        "std_helpfulcount = data['helpful_count'].std()\n",
        "quantiles_helpfulcount = data['helpful_count'].quantile([0.25, 0.5, 0.75])\n",
        "\n",
        "print(\"Mean Helpful Count:\", mean_helpfulcount)\n",
        "print(\"Median Helpful Count:\", median_helpfulcount)\n",
        "print(\"Mode Helpful Count:\", mode_helpfulcount)\n",
        "print(\"Variance Helpful Count:\", variance_helpfulcount)\n",
        "print(\"Standard Deviation Helpful Count:\", std_helpfulcount)\n",
        "print(\"Quantiles Helpful Count:\", quantiles_helpfulcount)"
      ]
    },
    {
      "cell_type": "markdown",
      "metadata": {
        "id": "sV0UqGEFgLeB"
      },
      "source": [
        "### 5.2 Visualizations\n",
        "Include relevant visualizations (histograms, box plots, scatter plots, etc.) and explain what each visualization reveals about the data."
      ]
    },
    {
      "cell_type": "markdown",
      "metadata": {
        "id": "hGaK-MHVeB8n"
      },
      "source": [
        "**Distribution of Ratings per Brand Name**"
      ]
    },
    {
      "cell_type": "code",
      "execution_count": null,
      "metadata": {
        "colab": {
          "base_uri": "https://localhost:8080/",
          "height": 472
        },
        "id": "IENCVPz-eFAv",
        "outputId": "8107608f-5a81-44d2-b82b-de05cb1edc51"
      },
      "outputs": [
        {
          "data": {
            "image/png": "[encoded data removed]",
            "text/plain": [
              "<Figure size 640x480 with 1 Axes>"
            ]
          },
          "metadata": {},
          "output_type": "display_data"
        }
      ],
      "source": [
        "plt.hist(data[data['brand_name'] == 'Audio-Technica']['rating'], bins=4)\n",
        "plt.title('Distribution of Ratings - Audio Technica')\n",
        "plt.xlabel('Ratings')\n",
        "plt.xticks(np.arange(0, 6, step=1))\n",
        "plt.ylabel('Count')\n",
        "plt.ylabel('Frequency')\n",
        "plt.show()"
      ]
    },
    {
      "cell_type": "code",
      "execution_count": null,
      "metadata": {
        "colab": {
          "base_uri": "https://localhost:8080/",
          "height": 472
        },
        "id": "b2mZr_wmeO1Q",
        "outputId": "7290b57f-5932-4894-c7ad-dd3f02d9776b"
      },
      "outputs": [
        {
          "data": {
            "image/png": "[encoded data removed]",
            "text/plain": [
              "<Figure size 640x480 with 1 Axes>"
            ]
          },
          "metadata": {},
          "output_type": "display_data"
        }
      ],
      "source": [
        "plt.hist(data[data['brand_name'] == 'Sony']['rating'], bins=4)\n",
        "plt.title('Distribution of Ratings - Sony')\n",
        "plt.xlabel('Ratings')\n",
        "plt.xticks(np.arange(0, 6, step=1))\n",
        "plt.ylabel('Count')\n",
        "plt.ylabel('Frequency')\n",
        "plt.show()"
      ]
    },
    {
      "cell_type": "code",
      "execution_count": null,
      "metadata": {
        "colab": {
          "base_uri": "https://localhost:8080/",
          "height": 472
        },
        "id": "NZ-VBL61eQ5o",
        "outputId": "348fa647-941a-4b9f-af7a-574363a4b510"
      },
      "outputs": [
        {
          "data": {
            "image/png": "[encoded data removed]",
            "text/plain": [
              "<Figure size 640x480 with 1 Axes>"
            ]
          },
          "metadata": {},
          "output_type": "display_data"
        }
      ],
      "source": [
        "plt.hist(data[data['brand_name'] == 'Bose']['rating'], bins=4)\n",
        "plt.title('Distribution of Ratings - Bose')\n",
        "plt.xlabel('Ratings')\n",
        "plt.xticks(np.arange(0, 6, step=1))\n",
        "plt.ylabel('Count')\n",
        "plt.ylabel('Frequency')\n",
        "plt.show()"
      ]
    },
    {
      "cell_type": "code",
      "execution_count": null,
      "metadata": {
        "colab": {
          "base_uri": "https://localhost:8080/",
          "height": 472
        },
        "id": "l5UZ9feOeSse",
        "outputId": "60e9bb2a-ffd2-44de-e329-e58b98b52a85"
      },
      "outputs": [
        {
          "data": {
            "image/png": "[encoded data removed]",
            "text/plain": [
              "<Figure size 640x480 with 1 Axes>"
            ]
          },
          "metadata": {},
          "output_type": "display_data"
        }
      ],
      "source": [
        "plt.hist(data[data['brand_name'] == 'Beats']['rating'], bins=4)\n",
        "plt.title('Distribution of Ratings - Beats')\n",
        "plt.xlabel('Ratings')\n",
        "plt.xticks(np.arange(0, 6, step=1))\n",
        "plt.ylabel('Count')\n",
        "plt.ylabel('Frequency')\n",
        "plt.show()"
      ]
    },
    {
      "cell_type": "code",
      "execution_count": null,
      "metadata": {
        "colab": {
          "base_uri": "https://localhost:8080/",
          "height": 472
        },
        "id": "anKIsBzUeTW8",
        "outputId": "5c7a7a2b-5152-4dff-fc7d-b18e528c901d"
      },
      "outputs": [
        {
          "data": {
            "image/png": "[encoded data removed]",
            "text/plain": [
              "<Figure size 640x480 with 1 Axes>"
            ]
          },
          "metadata": {},
          "output_type": "display_data"
        }
      ],
      "source": [
        "plt.hist(data[data['brand_name'] == 'Sennheiser']['rating'], bins=4)\n",
        "plt.title('Distribution of Ratings - Sennheiser')\n",
        "plt.xlabel('Ratings')\n",
        "plt.xticks(np.arange(0, 6, step=1))\n",
        "plt.ylabel('Count')\n",
        "plt.ylabel('Frequency')\n",
        "plt.show()"
      ]
    },
    {
      "cell_type": "markdown",
      "metadata": {
        "id": "cuBqB3AVqqX9"
      },
      "source": [
        "All the products from all the brands generally have good rating with all the distributions being left skewed"
      ]
    },
    {
      "cell_type": "code",
      "execution_count": null,
      "metadata": {
        "colab": {
          "base_uri": "https://localhost:8080/",
          "height": 472
        },
        "id": "rM3xBZxnhZN-",
        "outputId": "b2ab0610-2952-494b-d251-2180ce17d8d7"
      },
      "outputs": [
        {
          "data": {
            "image/png": "[encoded data removed]",
            "text/plain": [
              "<Figure size 640x480 with 1 Axes>"
            ]
          },
          "metadata": {},
          "output_type": "display_data"
        }
      ],
      "source": [
        "plt.hist(data['rating'], bins=4)\n",
        "plt.title('Distribution of Product Ratings')\n",
        "plt.xlabel('Ratings')\n",
        "plt.xticks(np.arange(0, 6, step=1))\n",
        "plt.ylabel('Count')\n",
        "plt.show()"
      ]
    },
    {
      "cell_type": "markdown",
      "metadata": {
        "id": "-ee7slYlhexx"
      },
      "source": [
        "The histogram is left skewed, with a larger number of good reviews for all our products selected. There is no different pattern even when we check each brand separately"
      ]
    },
    {
      "cell_type": "code",
      "execution_count": null,
      "metadata": {
        "colab": {
          "base_uri": "https://localhost:8080/"
        },
        "id": "fYuZNNzqh-tF",
        "outputId": "2861a7e4-b80a-442a-ab26-13db7ec51ec4"
      },
      "outputs": [
        {
          "name": "stdout",
          "output_type": "stream",
          "text": [
            "rating\n",
            "1     12\n",
            "2     19\n",
            "3     92\n",
            "4    257\n",
            "5    620\n",
            "Name: count, dtype: int64\n"
          ]
        }
      ],
      "source": [
        "# Extract the ratings column\n",
        "ratings = data['rating']\n",
        "# Count the number of products for each rating\n",
        "rating_counts = ratings.value_counts().sort_index()\n",
        "# Display the rating counts\n",
        "print(rating_counts)"
      ]
    },
    {
      "cell_type": "code",
      "execution_count": null,
      "metadata": {
        "colab": {
          "base_uri": "https://localhost:8080/",
          "height": 479
        },
        "id": "e5xSi8ZQiCVP",
        "outputId": "fdf597ca-79b6-4813-8039-40a02aaa5435"
      },
      "outputs": [
        {
          "data": {
            "image/png": "[encoded data removed]",
            "text/plain": [
              "<Figure size 640x480 with 1 Axes>"
            ]
          },
          "metadata": {},
          "output_type": "display_data"
        }
      ],
      "source": [
        "#   Plotting a bar plot of the distribution of the product ratings.\n",
        "plt.bar(rating_counts.index, rating_counts.values)\n",
        "plt.title(\"Distribution of Product Ratings\", y=1.02)\n",
        "plt.xlabel(\"Rating\")\n",
        "plt.ylabel(\"Count\")\n",
        "plt.show()"
      ]
    },
    {
      "cell_type": "markdown",
      "metadata": {
        "id": "nnkmJTvhiFlf"
      },
      "source": [
        "Out of the 1000 product reviews, more than 60% of the reviews are 5 rated and around 25% of the reviews are 4 rated. The presence of the other ratings are very less.\n",
        "\n",
        "I assigned a rating level label to the reviews and keep the threshold to be marked good as 4"
      ]
    },
    {
      "cell_type": "code",
      "execution_count": null,
      "metadata": {
        "colab": {
          "base_uri": "https://localhost:8080/",
          "height": 608
        },
        "id": "Ts__hfCtiNfj",
        "outputId": "7957af72-ee38-495b-c58f-ad2a9f1defcd"
      },
      "outputs": [
        {
          "data": {
            "application/vnd.google.colaboratory.intrinsic+json": {
              "summary": "{\n  \"name\": \"data\",\n  \"rows\": 1000,\n  \"fields\": [\n    {\n      \"column\": \"review_id\",\n      \"properties\": {\n        \"dtype\": \"string\",\n        \"num_unique_values\": 1000,\n        \"samples\": [\n          \"R3IHF8HGK6SEZW\",\n          \"R2DR1WUY1J1TZW\",\n          \"R1PMLMQO06HC4\"\n        ],\n        \"semantic_type\": \"\",\n        \"description\": \"\"\n      }\n    },\n    {\n      \"column\": \"product_id\",\n      \"properties\": {\n        \"dtype\": \"string\",\n        \"num_unique_values\": 10,\n        \"samples\": [\n          \"B00SC80YLM\",\n          \"B07DHHXZRN\",\n          \"B0CCZ26B5V\"\n        ],\n        \"semantic_type\": \"\",\n        \"description\": \"\"\n      }\n    },\n    {\n      \"column\": \"title\",\n      \"properties\": {\n        \"dtype\": \"string\",\n        \"num_unique_values\": 964,\n        \"samples\": [\n          \"5.0 out of 5 stars What world?\",\n          \"5.0 out of 5 stars Buy them... With a Caveat\",\n          \"5.0 out of 5 stars Great paired with tube amp, punches way above class\"\n        ],\n        \"semantic_type\": \"\",\n        \"description\": \"\"\n      }\n    },\n    {\n      \"column\": \"author\",\n      \"properties\": {\n        \"dtype\": \"string\",\n        \"num_unique_values\": 921,\n        \"samples\": [\n          \"Indigo\",\n          \"R.Chapman\",\n          \"Sophie Hopkins\"\n        ],\n        \"semantic_type\": \"\",\n        \"description\": \"\"\n      }\n    },\n    {\n      \"column\": \"rating\",\n      \"properties\": {\n        \"dtype\": \"number\",\n        \"std\": 0,\n        \"min\": 1,\n        \"max\": 5,\n        \"num_unique_values\": 5,\n        \"samples\": [\n          4,\n          1,\n          3\n        ],\n        \"semantic_type\": \"\",\n        \"description\": \"\"\n      }\n    },\n    {\n      \"column\": \"content\",\n      \"properties\": {\n        \"dtype\": \"string\",\n        \"num_unique_values\": 1000,\n        \"samples\": [\n          \"I usually stick to Sony, I liked the xm3, 4, tried the 5 and hated it and how CHEAP they felt. There's always a comfort issue with me. I always had to buy aftermarket pads just to get the things comfortable because they always squish into on-ear headphones.The Bose headphones are the most comfy wireless headphones I've ever owned and it's not even close. The sound is fantastic too. I'm sure the Sony's are \\\"technically\\\" better or something, but what the heck is the damn point if I have to take breaks every 45 minutes to avoid a headache!Anyway, they sound great, they're very comfortable.I mostly use \\\"aware\\\" mode and it's miles better than the xm4's I used to own. I can actually hear my surroundings or if someone's trying to get my attention at work. Noise cancellation mode is pretty good too for things like yard work or whatever also.They were an impulse buy but I'm a huge fan now.I should also mention they're incredibly lightweight. REALLY good clamp without giving me a headache either. Also unlike the xm5, the build quality is great despite them feeling so lightweight - proving you don't need to sacrifice build quality for weight.\",\n          \"I love these headphones. I decided on the XM4 over XM5 because of the reviews. They're comfortable, stay on, and the sound quality is amazing. I always wear these on the plane. I tend not to use them while working out because it's hot and humid where I live.\",\n          \"I wear prescription glasses all the time and over the ear headphones have been an issue forever. Typically the headphones would press against my glasses and cause pain / indentation near my temple and ears. These Sony are so comfy and durable I don't have any pain. The app allows for custom configuration to ensure awesome performance. Noise cancel works great, the auto switch while talking could use some work. Buttons are digital sense and take some time to get use to if your not familiar with them already carry case is bulky but headphones don't fold down as small and provides adequate protection for traveling.\"\n        ],\n        \"semantic_type\": \"\",\n        \"description\": \"\"\n      }\n    },\n    {\n      \"column\": \"timestamp\",\n      \"properties\": {\n        \"dtype\": \"date\",\n        \"min\": \"2010-12-27 00:00:00\",\n        \"max\": \"2024-08-05 00:00:00\",\n        \"num_unique_values\": 551,\n        \"samples\": [\n          \"2018-12-01 00:00:00\",\n          \"2023-08-16 00:00:00\",\n          \"2019-11-22 00:00:00\"\n        ],\n        \"semantic_type\": \"\",\n        \"description\": \"\"\n      }\n    },\n    {\n      \"column\": \"profile_id\",\n      \"properties\": {\n        \"dtype\": \"string\",\n        \"num_unique_values\": 996,\n        \"samples\": [\n          \"AHROUA7CNPZ5MIZVJCOVXQBM4MZQ\",\n          \"AFPPCRWK4WPJCJJHHO72SVOMZOKQ\",\n          \"AH4GZFH3BWFUJTLJ7P4QEFSWGZYA\"\n        ],\n        \"semantic_type\": \"\",\n        \"description\": \"\"\n      }\n    },\n    {\n      \"column\": \"is_verified\",\n      \"properties\": {\n        \"dtype\": \"number\",\n        \"std\": 0,\n        \"min\": 1,\n        \"max\": 1,\n        \"num_unique_values\": 1,\n        \"samples\": [\n          1\n        ],\n        \"semantic_type\": \"\",\n        \"description\": \"\"\n      }\n    },\n    {\n      \"column\": \"helpful_count\",\n      \"properties\": {\n        \"dtype\": \"number\",\n        \"std\": 101,\n        \"min\": 0,\n        \"max\": 1915,\n        \"num_unique_values\": 98,\n        \"samples\": [\n          19\n        ],\n        \"semantic_type\": \"\",\n        \"description\": \"\"\n      }\n    },\n    {\n      \"column\": \"product_attributes\",\n      \"properties\": {\n        \"dtype\": \"string\",\n        \"num_unique_values\": 30,\n        \"samples\": [\n          \"Style: Black\"\n        ],\n        \"semantic_type\": \"\",\n        \"description\": \"\"\n      }\n    },\n    {\n      \"column\": \"product_name\",\n      \"properties\": {\n        \"dtype\": \"category\",\n        \"num_unique_values\": 10,\n        \"samples\": [\n          \"Audio-Technica ATH-M70X Closed-Back Dynamic Professional Studio Monitor Headphones, Black\"\n        ],\n        \"semantic_type\": \"\",\n        \"description\": \"\"\n      }\n    },\n    {\n      \"column\": \"brand_name\",\n      \"properties\": {\n        \"dtype\": \"category\",\n        \"num_unique_values\": 5,\n        \"samples\": [\n          \"Beats\"\n        ],\n        \"semantic_type\": \"\",\n        \"description\": \"\"\n      }\n    },\n    {\n      \"column\": \"rating_level\",\n      \"properties\": {\n        \"dtype\": \"category\",\n        \"num_unique_values\": 2,\n        \"samples\": [\n          \"poor\"\n        ],\n        \"semantic_type\": \"\",\n        \"description\": \"\"\n      }\n    }\n  ]\n}",
              "type": "dataframe",
              "variable_name": "data"
            },
            "text/html": [
              "\n",
              "  <div id=\"df-7509831f-0859-4e70-a3e4-311a9d8173b7\" class=\"colab-df-container\">\n",
              "    <div>\n",
              "<style scoped>\n",
              "    .dataframe tbody tr th:only-of-type {\n",
              "        vertical-align: middle;\n",
              "    }\n",
              "\n",
              "    .dataframe tbody tr th {\n",
              "        vertical-align: top;\n",
              "    }\n",
              "\n",
              "    .dataframe thead th {\n",
              "        text-align: right;\n",
              "    }\n",
              "</style>\n",
              "<table border=\"1\" class=\"dataframe\">\n",
              "  <thead>\n",
              "    <tr style=\"text-align: right;\">\n",
              "      <th></th>\n",
              "      <th>review_id</th>\n",
              "      <th>product_id</th>\n",
              "      <th>title</th>\n",
              "      <th>author</th>\n",
              "      <th>rating</th>\n",
              "      <th>content</th>\n",
              "      <th>timestamp</th>\n",
              "      <th>profile_id</th>\n",
              "      <th>is_verified</th>\n",
              "      <th>helpful_count</th>\n",
              "      <th>product_attributes</th>\n",
              "      <th>product_name</th>\n",
              "      <th>brand_name</th>\n",
              "      <th>rating_level</th>\n",
              "    </tr>\n",
              "  </thead>\n",
              "  <tbody>\n",
              "    <tr>\n",
              "      <th>0</th>\n",
              "      <td>R3IZCMYPSVY5MD</td>\n",
              "      <td>B00004SY4H</td>\n",
              "      <td>5.0 out of 5 stars So Nice, I Bought Them Twice</td>\n",
              "      <td>Alice Majdali</td>\n",
              "      <td>5</td>\n",
              "      <td>Updated (6/20/21) - HD600's are still a great ...</td>\n",
              "      <td>2017-06-19</td>\n",
              "      <td>AEMGPCOP7KJAQSGPZRNU2DBE2AXQ</td>\n",
              "      <td>1</td>\n",
              "      <td>23</td>\n",
              "      <td>Unknown</td>\n",
              "      <td>Sennheiser Consumer Audio HD 600 - Audiophile ...</td>\n",
              "      <td>Sennheiser</td>\n",
              "      <td>good</td>\n",
              "    </tr>\n",
              "    <tr>\n",
              "      <th>1</th>\n",
              "      <td>R2SDQ12KSFZO7</td>\n",
              "      <td>B00004SY4H</td>\n",
              "      <td>5.0 out of 5 stars A great headphone for $300</td>\n",
              "      <td>Bleak</td>\n",
              "      <td>5</td>\n",
              "      <td>For $300, the HD600 even with it's current che...</td>\n",
              "      <td>2022-03-22</td>\n",
              "      <td>AHQANXFCWQKJCPESVD227DUEXJWA</td>\n",
              "      <td>1</td>\n",
              "      <td>10</td>\n",
              "      <td>Unknown</td>\n",
              "      <td>Sennheiser Consumer Audio HD 600 - Audiophile ...</td>\n",
              "      <td>Sennheiser</td>\n",
              "      <td>good</td>\n",
              "    </tr>\n",
              "    <tr>\n",
              "      <th>2</th>\n",
              "      <td>R4WSXVUD6BPH</td>\n",
              "      <td>B00004SY4H</td>\n",
              "      <td>5.0 out of 5 stars Beautiful Headphones</td>\n",
              "      <td>M. Rickard</td>\n",
              "      <td>5</td>\n",
              "      <td>I have sort of an emotional attachment to thes...</td>\n",
              "      <td>2013-10-13</td>\n",
              "      <td>AGKZFMYNH2OTED2PX6B2HLEEXACA</td>\n",
              "      <td>1</td>\n",
              "      <td>11</td>\n",
              "      <td>Unknown</td>\n",
              "      <td>Sennheiser Consumer Audio HD 600 - Audiophile ...</td>\n",
              "      <td>Sennheiser</td>\n",
              "      <td>good</td>\n",
              "    </tr>\n",
              "    <tr>\n",
              "      <th>3</th>\n",
              "      <td>RYZNEGJZXKINY</td>\n",
              "      <td>B00004SY4H</td>\n",
              "      <td>5.0 out of 5 stars These are legends for a rea...</td>\n",
              "      <td>IommiFan85</td>\n",
              "      <td>5</td>\n",
              "      <td>General Thoughts: Coming from the Philips X2 t...</td>\n",
              "      <td>2015-10-06</td>\n",
              "      <td>AEQKFTGXHXK4VZVNJ4OLMIJYYRUA</td>\n",
              "      <td>1</td>\n",
              "      <td>11</td>\n",
              "      <td>Unknown</td>\n",
              "      <td>Sennheiser Consumer Audio HD 600 - Audiophile ...</td>\n",
              "      <td>Sennheiser</td>\n",
              "      <td>good</td>\n",
              "    </tr>\n",
              "    <tr>\n",
              "      <th>4</th>\n",
              "      <td>R12JTTAEXZ62I0</td>\n",
              "      <td>B00004SY4H</td>\n",
              "      <td>4.0 out of 5 stars Solid. But not for recording.</td>\n",
              "      <td>Jamie</td>\n",
              "      <td>4</td>\n",
              "      <td>Overall sound is lovely! Very true to tone, wo...</td>\n",
              "      <td>2024-07-20</td>\n",
              "      <td>AFYBVINSYY5VPS2B734AAX5SCHEQ</td>\n",
              "      <td>1</td>\n",
              "      <td>0</td>\n",
              "      <td>Unknown</td>\n",
              "      <td>Sennheiser Consumer Audio HD 600 - Audiophile ...</td>\n",
              "      <td>Sennheiser</td>\n",
              "      <td>good</td>\n",
              "    </tr>\n",
              "  </tbody>\n",
              "</table>\n",
              "</div>\n",
              "    <div class=\"colab-df-buttons\">\n",
              "\n",
              "  <div class=\"colab-df-container\">\n",
              "    <button class=\"colab-df-convert\" onclick=\"convertToInteractive('df-7509831f-0859-4e70-a3e4-311a9d8173b7')\"\n",
              "            title=\"Convert this dataframe to an interactive table.\"\n",
              "            style=\"display:none;\">\n",
              "\n",
              "  <svg xmlns=\"http://www.w3.org/2000/svg\" height=\"24px\" viewBox=\"0 -960 960 960\">\n",
              "    <path d=\"M120-120v-720h720v720H120Zm60-500h600v-160H180v160Zm220 220h160v-160H400v160Zm0 220h160v-160H400v160ZM180-400h160v-160H180v160Zm440 0h160v-160H620v160ZM180-180h160v-160H180v160Zm440 0h160v-160H620v160Z\"/>\n",
              "  </svg>\n",
              "    </button>\n",
              "\n",
              "  <style>\n",
              "    .colab-df-container {\n",
              "      display:flex;\n",
              "      gap: 12px;\n",
              "    }\n",
              "\n",
              "    .colab-df-convert {\n",
              "      background-color: #E8F0FE;\n",
              "      border: none;\n",
              "      border-radius: 50%;\n",
              "      cursor: pointer;\n",
              "      display: none;\n",
              "      fill: #1967D2;\n",
              "      height: 32px;\n",
              "      padding: 0 0 0 0;\n",
              "      width: 32px;\n",
              "    }\n",
              "\n",
              "    .colab-df-convert:hover {\n",
              "      background-color: #E2EBFA;\n",
              "      box-shadow: 0px 1px 2px rgba(60, 64, 67, 0.3), 0px 1px 3px 1px rgba(60, 64, 67, 0.15);\n",
              "      fill: #174EA6;\n",
              "    }\n",
              "\n",
              "    .colab-df-buttons div {\n",
              "      margin-bottom: 4px;\n",
              "    }\n",
              "\n",
              "    [theme=dark] .colab-df-convert {\n",
              "      background-color: #3B4455;\n",
              "      fill: #D2E3FC;\n",
              "    }\n",
              "\n",
              "    [theme=dark] .colab-df-convert:hover {\n",
              "      background-color: #434B5C;\n",
              "      box-shadow: 0px 1px 3px 1px rgba(0, 0, 0, 0.15);\n",
              "      filter: drop-shadow(0px 1px 2px rgba(0, 0, 0, 0.3));\n",
              "      fill: #FFFFFF;\n",
              "    }\n",
              "  </style>\n",
              "\n",
              "    <script>\n",
              "      const buttonEl =\n",
              "        document.querySelector('#df-7509831f-0859-4e70-a3e4-311a9d8173b7 button.colab-df-convert');\n",
              "      buttonEl.style.display =\n",
              "        google.colab.kernel.accessAllowed ? 'block' : 'none';\n",
              "\n",
              "      async function convertToInteractive(key) {\n",
              "        const element = document.querySelector('#df-7509831f-0859-4e70-a3e4-311a9d8173b7');\n",
              "        const dataTable =\n",
              "          await google.colab.kernel.invokeFunction('convertToInteractive',\n",
              "                                                    [key], {});\n",
              "        if (!dataTable) return;\n",
              "\n",
              "        const docLinkHtml = 'Like what you see? Visit the ' +\n",
              "          '<a target=\"_blank\" href=https://colab.research.google.com/notebooks/data_table.ipynb>data table notebook</a>'\n",
              "          + ' to learn more about interactive tables.';\n",
              "        element.innerHTML = '';\n",
              "        dataTable['output_type'] = 'display_data';\n",
              "        await google.colab.output.renderOutput(dataTable, element);\n",
              "        const docLink = document.createElement('div');\n",
              "        docLink.innerHTML = docLinkHtml;\n",
              "        element.appendChild(docLink);\n",
              "      }\n",
              "    </script>\n",
              "  </div>\n",
              "\n",
              "\n",
              "<div id=\"df-c05d7a0b-5072-472a-9758-fed1e0c9d06a\">\n",
              "  <button class=\"colab-df-quickchart\" onclick=\"quickchart('df-c05d7a0b-5072-472a-9758-fed1e0c9d06a')\"\n",
              "            title=\"Suggest charts\"\n",
              "            style=\"display:none;\">\n",
              "\n",
              "<svg xmlns=\"http://www.w3.org/2000/svg\" height=\"24px\"viewBox=\"0 0 24 24\"\n",
              "     width=\"24px\">\n",
              "    <g>\n",
              "        <path d=\"M19 3H5c-1.1 0-2 .9-2 2v14c0 1.1.9 2 2 2h14c1.1 0 2-.9 2-2V5c0-1.1-.9-2-2-2zM9 17H7v-7h2v7zm4 0h-2V7h2v10zm4 0h-2v-4h2v4z\"/>\n",
              "    </g>\n",
              "</svg>\n",
              "  </button>\n",
              "\n",
              "<style>\n",
              "  .colab-df-quickchart {\n",
              "      --bg-color: #E8F0FE;\n",
              "      --fill-color: #1967D2;\n",
              "      --hover-bg-color: #E2EBFA;\n",
              "      --hover-fill-color: #174EA6;\n",
              "      --disabled-fill-color: #AAA;\n",
              "      --disabled-bg-color: #DDD;\n",
              "  }\n",
              "\n",
              "  [theme=dark] .colab-df-quickchart {\n",
              "      --bg-color: #3B4455;\n",
              "      --fill-color: #D2E3FC;\n",
              "      --hover-bg-color: #434B5C;\n",
              "      --hover-fill-color: #FFFFFF;\n",
              "      --disabled-bg-color: #3B4455;\n",
              "      --disabled-fill-color: #666;\n",
              "  }\n",
              "\n",
              "  .colab-df-quickchart {\n",
              "    background-color: var(--bg-color);\n",
              "    border: none;\n",
              "    border-radius: 50%;\n",
              "    cursor: pointer;\n",
              "    display: none;\n",
              "    fill: var(--fill-color);\n",
              "    height: 32px;\n",
              "    padding: 0;\n",
              "    width: 32px;\n",
              "  }\n",
              "\n",
              "  .colab-df-quickchart:hover {\n",
              "    background-color: var(--hover-bg-color);\n",
              "    box-shadow: 0 1px 2px rgba(60, 64, 67, 0.3), 0 1px 3px 1px rgba(60, 64, 67, 0.15);\n",
              "    fill: var(--button-hover-fill-color);\n",
              "  }\n",
              "\n",
              "  .colab-df-quickchart-complete:disabled,\n",
              "  .colab-df-quickchart-complete:disabled:hover {\n",
              "    background-color: var(--disabled-bg-color);\n",
              "    fill: var(--disabled-fill-color);\n",
              "    box-shadow: none;\n",
              "  }\n",
              "\n",
              "  .colab-df-spinner {\n",
              "    border: 2px solid var(--fill-color);\n",
              "    border-color: transparent;\n",
              "    border-bottom-color: var(--fill-color);\n",
              "    animation:\n",
              "      spin 1s steps(1) infinite;\n",
              "  }\n",
              "\n",
              "  @keyframes spin {\n",
              "    0% {\n",
              "      border-color: transparent;\n",
              "      border-bottom-color: var(--fill-color);\n",
              "      border-left-color: var(--fill-color);\n",
              "    }\n",
              "    20% {\n",
              "      border-color: transparent;\n",
              "      border-left-color: var(--fill-color);\n",
              "      border-top-color: var(--fill-color);\n",
              "    }\n",
              "    30% {\n",
              "      border-color: transparent;\n",
              "      border-left-color: var(--fill-color);\n",
              "      border-top-color: var(--fill-color);\n",
              "      border-right-color: var(--fill-color);\n",
              "    }\n",
              "    40% {\n",
              "      border-color: transparent;\n",
              "      border-right-color: var(--fill-color);\n",
              "      border-top-color: var(--fill-color);\n",
              "    }\n",
              "    60% {\n",
              "      border-color: transparent;\n",
              "      border-right-color: var(--fill-color);\n",
              "    }\n",
              "    80% {\n",
              "      border-color: transparent;\n",
              "      border-right-color: var(--fill-color);\n",
              "      border-bottom-color: var(--fill-color);\n",
              "    }\n",
              "    90% {\n",
              "      border-color: transparent;\n",
              "      border-bottom-color: var(--fill-color);\n",
              "    }\n",
              "  }\n",
              "</style>\n",
              "\n",
              "  <script>\n",
              "    async function quickchart(key) {\n",
              "      const quickchartButtonEl =\n",
              "        document.querySelector('#' + key + ' button');\n",
              "      quickchartButtonEl.disabled = true;  // To prevent multiple clicks.\n",
              "      quickchartButtonEl.classList.add('colab-df-spinner');\n",
              "      try {\n",
              "        const charts = await google.colab.kernel.invokeFunction(\n",
              "            'suggestCharts', [key], {});\n",
              "      } catch (error) {\n",
              "        console.error('Error during call to suggestCharts:', error);\n",
              "      }\n",
              "      quickchartButtonEl.classList.remove('colab-df-spinner');\n",
              "      quickchartButtonEl.classList.add('colab-df-quickchart-complete');\n",
              "    }\n",
              "    (() => {\n",
              "      let quickchartButtonEl =\n",
              "        document.querySelector('#df-c05d7a0b-5072-472a-9758-fed1e0c9d06a button');\n",
              "      quickchartButtonEl.style.display =\n",
              "        google.colab.kernel.accessAllowed ? 'block' : 'none';\n",
              "    })();\n",
              "  </script>\n",
              "</div>\n",
              "\n",
              "    </div>\n",
              "  </div>\n"
            ],
            "text/plain": [
              "        review_id  product_id  \\\n",
              "0  R3IZCMYPSVY5MD  B00004SY4H   \n",
              "1   R2SDQ12KSFZO7  B00004SY4H   \n",
              "2    R4WSXVUD6BPH  B00004SY4H   \n",
              "3   RYZNEGJZXKINY  B00004SY4H   \n",
              "4  R12JTTAEXZ62I0  B00004SY4H   \n",
              "\n",
              "                                               title         author  rating  \\\n",
              "0    5.0 out of 5 stars So Nice, I Bought Them Twice  Alice Majdali       5   \n",
              "1      5.0 out of 5 stars A great headphone for $300          Bleak       5   \n",
              "2            5.0 out of 5 stars Beautiful Headphones     M. Rickard       5   \n",
              "3  5.0 out of 5 stars These are legends for a rea...     IommiFan85       5   \n",
              "4   4.0 out of 5 stars Solid. But not for recording.          Jamie       4   \n",
              "\n",
              "                                             content  timestamp  \\\n",
              "0  Updated (6/20/21) - HD600's are still a great ... 2017-06-19   \n",
              "1  For $300, the HD600 even with it's current che... 2022-03-22   \n",
              "2  I have sort of an emotional attachment to thes... 2013-10-13   \n",
              "3  General Thoughts: Coming from the Philips X2 t... 2015-10-06   \n",
              "4  Overall sound is lovely! Very true to tone, wo... 2024-07-20   \n",
              "\n",
              "                     profile_id  is_verified  helpful_count  \\\n",
              "0  AEMGPCOP7KJAQSGPZRNU2DBE2AXQ            1             23   \n",
              "1  AHQANXFCWQKJCPESVD227DUEXJWA            1             10   \n",
              "2  AGKZFMYNH2OTED2PX6B2HLEEXACA            1             11   \n",
              "3  AEQKFTGXHXK4VZVNJ4OLMIJYYRUA            1             11   \n",
              "4  AFYBVINSYY5VPS2B734AAX5SCHEQ            1              0   \n",
              "\n",
              "  product_attributes                                       product_name  \\\n",
              "0            Unknown  Sennheiser Consumer Audio HD 600 - Audiophile ...   \n",
              "1            Unknown  Sennheiser Consumer Audio HD 600 - Audiophile ...   \n",
              "2            Unknown  Sennheiser Consumer Audio HD 600 - Audiophile ...   \n",
              "3            Unknown  Sennheiser Consumer Audio HD 600 - Audiophile ...   \n",
              "4            Unknown  Sennheiser Consumer Audio HD 600 - Audiophile ...   \n",
              "\n",
              "   brand_name rating_level  \n",
              "0  Sennheiser         good  \n",
              "1  Sennheiser         good  \n",
              "2  Sennheiser         good  \n",
              "3  Sennheiser         good  \n",
              "4  Sennheiser         good  "
            ]
          },
          "execution_count": 20,
          "metadata": {},
          "output_type": "execute_result"
        }
      ],
      "source": [
        "# 'rating_level' based on the 'rating' column\n",
        "data['rating_level'] = data['rating'].apply(lambda x: 'poor' if x < 4 else 'good')\n",
        "data.head()"
      ]
    },
    {
      "cell_type": "code",
      "execution_count": null,
      "metadata": {
        "colab": {
          "base_uri": "https://localhost:8080/",
          "height": 564
        },
        "id": "h2Fju9FPibDf",
        "outputId": "22dbde3f-0275-4c00-93f1-52c9276c8fc5"
      },
      "outputs": [
        {
          "data": {
            "image/png": "[encoded data removed]",
            "text/plain": [
              "<Figure size 1000x600 with 1 Axes>"
            ]
          },
          "metadata": {},
          "output_type": "display_data"
        }
      ],
      "source": [
        "# Grouping the data by 'brand' and 'rating_level' and count the number of reviews\n",
        "review_counts = data.groupby(['brand_name', 'rating_level']).size().unstack(fill_value=0)\n",
        "# Create a paired bar graph\n",
        "brands = review_counts.index\n",
        "poor_reviews = review_counts['poor']\n",
        "good_reviews = review_counts['good']\n",
        "x = np.arange(len(brands))  # the label locations\n",
        "width = 0.35\n",
        "fig, ax = plt.subplots(figsize=(10, 6))\n",
        "bars1 = ax.bar(x - width/2, poor_reviews, width, label='Poor Reviews', color='salmon')\n",
        "bars2 = ax.bar(x + width/2, good_reviews, width, label='Good Reviews', color='skyblue')\n",
        "ax.set_xlabel('Brand')\n",
        "ax.set_ylabel('Number of Reviews')\n",
        "ax.set_title('Number of Good and Poor Reviews by Brand')\n",
        "ax.set_xticks(x)\n",
        "ax.set_xticklabels(brands)\n",
        "ax.legend()\n",
        "plt.show()"
      ]
    },
    {
      "cell_type": "markdown",
      "metadata": {
        "id": "yP2e-ehbifos"
      },
      "source": [
        "Most number of poor rated reviews come from Audio-Technicia and Sennheiser and\n",
        "\n",
        "*   Most number of poor rated reviews come from Audio-Technicia\n",
        "*   The number of poor rated reviews drastically varies between brands\n",
        "*   On the other hand, there is a fair number of positive reviews per brand\n"
      ]
    },
    {
      "cell_type": "code",
      "execution_count": null,
      "metadata": {
        "colab": {
          "base_uri": "https://localhost:8080/",
          "height": 433
        },
        "id": "FoXyv2nLii7n",
        "outputId": "ea4ae0c0-6f24-48ca-b8f4-0acddf13a06e"
      },
      "outputs": [
        {
          "data": {
            "image/png": "[encoded data removed]",
            "text/plain": [
              "<Figure size 640x480 with 1 Axes>"
            ]
          },
          "metadata": {},
          "output_type": "display_data"
        }
      ],
      "source": [
        "# Check the rating distribution\n",
        "sns.boxplot(y=\"rating\", data=data)\n",
        "plt.title('Box Plot of Ratings')\n",
        "plt.xticks(rotation=90)\n",
        "plt.show()"
      ]
    },
    {
      "cell_type": "markdown",
      "metadata": {
        "id": "gu_H_8AGi4JY"
      },
      "source": [
        "Created a new column to capture the length of the reviews"
      ]
    },
    {
      "cell_type": "code",
      "execution_count": null,
      "metadata": {
        "id": "V4M3Rp8FiyM7"
      },
      "outputs": [],
      "source": [
        "data[\"review_length\"]= data[\"content\"].str.len()"
      ]
    },
    {
      "cell_type": "markdown",
      "metadata": {
        "id": "smiE6J_oi1rT"
      },
      "source": [
        "We can take the reviews with rating more than 3 in our dataset since others act as outliers. But since we look at the sentiments associated with each rating, I refrain from dropping these records and instead I go ahead with them."
      ]
    },
    {
      "cell_type": "code",
      "execution_count": null,
      "metadata": {
        "colab": {
          "base_uri": "https://localhost:8080/",
          "height": 445
        },
        "id": "dqFQK-VdjAeN",
        "outputId": "d629cdf7-fb69-4041-d356-2afc38830d82"
      },
      "outputs": [
        {
          "data": {
            "image/png": "[encoded data removed]",
            "text/plain": [
              "<Figure size 640x480 with 2 Axes>"
            ]
          },
          "metadata": {},
          "output_type": "display_data"
        }
      ],
      "source": [
        "grouped_brand = data.groupby('brand_name').sum(numeric_only=True)\n",
        "sns.heatmap(grouped_brand[['rating','helpful_count']], cmap='viridis')\n",
        "plt.show()"
      ]
    },
    {
      "cell_type": "markdown",
      "metadata": {
        "id": "00xCRV4OjEQT"
      },
      "source": [
        "**Relationship between Rating and Helpful Count**"
      ]
    },
    {
      "cell_type": "code",
      "execution_count": null,
      "metadata": {
        "colab": {
          "base_uri": "https://localhost:8080/",
          "height": 608
        },
        "id": "4Ho4S4NAjVSO",
        "outputId": "3461e040-6dd6-4feb-c03f-111ece6708c9"
      },
      "outputs": [
        {
          "name": "stdout",
          "output_type": "stream",
          "text": [
            "Covariance Matrix\n",
            "[[ 6.90574575e-01 -1.71350350e+00]\n",
            " [-1.71350350e+00  1.02253551e+04]]\n",
            "--------------------\n",
            "Covariance of rating and helpful count: -1.7135035035035016\n",
            "--------------------\n",
            "Correlation Coefficient (r): -0.02039109295387351\n",
            "--------------------\n",
            "p-value: 0.5195213216130814\n"
          ]
        },
        {
          "data": {
            "image/png": "[encoded data removed]",
            "text/plain": [
              "<Figure size 640x480 with 2 Axes>"
            ]
          },
          "metadata": {},
          "output_type": "display_data"
        }
      ],
      "source": [
        "# Calculate covariance matrix\n",
        "cov_matrix = np.cov(data['rating'], data['helpful_count'])\n",
        "print(\"Covariance Matrix\")\n",
        "print(cov_matrix)\n",
        "print(\"--------------------\")\n",
        "# Calculate covariance using pandas\n",
        "cov_xy = data['rating'].cov(data['helpful_count'])\n",
        "print(\"Covariance of rating and helpful count:\", cov_xy)\n",
        "print(\"--------------------\")\n",
        "# Calculate correlation coefficient using scipy\n",
        "r, p_value = pearsonr(data['rating'], data['helpful_count'])\n",
        "print(\"Correlation Coefficient (r):\", r)\n",
        "print(\"--------------------\")\n",
        "print(\"p-value:\", p_value)\n",
        "# Heatmap of the correlation matrix\n",
        "corr_matrix = np.corrcoef(data['rating'],data['helpful_count'])\n",
        "sns.heatmap(corr_matrix, annot=True, cmap='coolwarm')\n",
        "plt.title('Correlation Matrix Heatmap')\n",
        "plt.show()"
      ]
    },
    {
      "cell_type": "code",
      "execution_count": null,
      "metadata": {
        "colab": {
          "base_uri": "https://localhost:8080/",
          "height": 572
        },
        "id": "Jze77tdrju7x",
        "outputId": "e4571b0f-5e5d-4d6e-b256-919f98c23487"
      },
      "outputs": [
        {
          "name": "stdout",
          "output_type": "stream",
          "text": [
            "        is_verified  helpful_count  review_length\n",
            "rating                                           \n",
            "1                12             82           8753\n",
            "2                19           2022          30522\n",
            "3                92            873         165920\n",
            "4               257           3337         333167\n",
            "5               620          11571         644163\n"
          ]
        },
        {
          "data": {
            "image/png": "[encoded data removed]",
            "text/plain": [
              "<Figure size 640x480 with 1 Axes>"
            ]
          },
          "metadata": {},
          "output_type": "display_data"
        }
      ],
      "source": [
        "grouped_sum = data.groupby('rating').sum(numeric_only=True)\n",
        "print(grouped_sum)\n",
        "plt.plot(grouped_sum.index, grouped_sum['helpful_count'])\n",
        "plt.xticks(np.arange(1, 6, step=1))\n",
        "plt.xlabel(\"Rating of Reviews\")\n",
        "plt.ylabel(\"Helpful Count\")\n",
        "plt.show()"
      ]
    },
    {
      "cell_type": "markdown",
      "metadata": {
        "id": "cL4W99M1j0J6"
      },
      "source": [
        "Though not linear, it looks like the better rated reviews are more helpful to the customers than the poorer ones"
      ]
    },
    {
      "cell_type": "markdown",
      "metadata": {
        "id": "AJiZeFGBj0UJ"
      },
      "source": [
        "**Relationship between length of the review and the number of people who have marked these reviews as helpful**"
      ]
    },
    {
      "cell_type": "code",
      "execution_count": null,
      "metadata": {
        "colab": {
          "base_uri": "https://localhost:8080/",
          "height": 608
        },
        "id": "FARYvHrbj7ro",
        "outputId": "c3f0f15f-9684-42e2-884d-f28d3638c64e"
      },
      "outputs": [
        {
          "name": "stdout",
          "output_type": "stream",
          "text": [
            "Covariance Matrix\n",
            "[[2224320.26564064   60868.38375876]\n",
            " [  60868.38375876   10225.35513013]]\n",
            "--------------------\n",
            "Covariance of Review Length and helpful count: 60868.38375875876\n",
            "--------------------\n",
            "Correlation Coefficient (r): 0.4036025585103364\n",
            "--------------------\n",
            "p-value: 1.8251127652054104e-40\n"
          ]
        },
        {
          "data": {
            "image/png": "[encoded data removed]",
            "text/plain": [
              "<Figure size 640x480 with 2 Axes>"
            ]
          },
          "metadata": {},
          "output_type": "display_data"
        }
      ],
      "source": [
        "# Calculate covariance matrix\n",
        "data['review_length'] = data['review_length'].astype('int64')\n",
        "cov_matrix = np.cov(data['review_length'], data['helpful_count'])\n",
        "print(\"Covariance Matrix\")\n",
        "print(cov_matrix)\n",
        "print(\"--------------------\")\n",
        "# Calculate covariance using pandas\n",
        "cov_xy = data['review_length'].cov(data['helpful_count'])\n",
        "print(\"Covariance of Review Length and helpful count:\", cov_xy)\n",
        "print(\"--------------------\")\n",
        "# Calculate correlation coefficient using scipy\n",
        "r, p_value = pearsonr(data['review_length'], data['helpful_count'])\n",
        "print(\"Correlation Coefficient (r):\", r)\n",
        "print(\"--------------------\")\n",
        "print(\"p-value:\", p_value)\n",
        "# Heatmap of the correlation matrix\n",
        "corr_matrix = np.corrcoef(data['review_length'],data['helpful_count'])\n",
        "sns.heatmap(corr_matrix, annot=True, cmap='coolwarm')\n",
        "plt.title('Correlation Matrix Heatmap')\n",
        "plt.show()"
      ]
    },
    {
      "cell_type": "code",
      "execution_count": null,
      "metadata": {
        "colab": {
          "base_uri": "https://localhost:8080/",
          "height": 143
        },
        "id": "XM8qyII2moPg",
        "outputId": "822bf965-429c-40b7-87ac-5bcd466e6f85"
      },
      "outputs": [
        {
          "data": {
            "application/vnd.google.colaboratory.intrinsic+json": {
              "summary": "{\n  \"name\": \"data[['rating','helpful_count','review_length']]\",\n  \"rows\": 3,\n  \"fields\": [\n    {\n      \"column\": \"rating\",\n      \"properties\": {\n        \"dtype\": \"number\",\n        \"std\": 0.6191806046823094,\n        \"min\": -0.11785941467180538,\n        \"max\": 1.0,\n        \"num_unique_values\": 3,\n        \"samples\": [\n          1.0,\n          -0.02039109295387358,\n          -0.11785941467180538\n        ],\n        \"semantic_type\": \"\",\n        \"description\": \"\"\n      }\n    },\n    {\n      \"column\": \"helpful_count\",\n      \"properties\": {\n        \"dtype\": \"number\",\n        \"std\": 0.5126172235493999,\n        \"min\": -0.02039109295387358,\n        \"max\": 1.0,\n        \"num_unique_values\": 3,\n        \"samples\": [\n          -0.02039109295387358,\n          1.0,\n          0.40360255851033555\n        ],\n        \"semantic_type\": \"\",\n        \"description\": \"\"\n      }\n    },\n    {\n      \"column\": \"review_length\",\n      \"properties\": {\n        \"dtype\": \"number\",\n        \"std\": 0.559348157629459,\n        \"min\": -0.11785941467180538,\n        \"max\": 1.0,\n        \"num_unique_values\": 3,\n        \"samples\": [\n          -0.11785941467180538,\n          0.40360255851033555,\n          1.0\n        ],\n        \"semantic_type\": \"\",\n        \"description\": \"\"\n      }\n    }\n  ]\n}",
              "type": "dataframe"
            },
            "text/html": [
              "\n",
              "  <div id=\"df-1b7c8039-9895-45c3-83db-4630d9c9952e\" class=\"colab-df-container\">\n",
              "    <div>\n",
              "<style scoped>\n",
              "    .dataframe tbody tr th:only-of-type {\n",
              "        vertical-align: middle;\n",
              "    }\n",
              "\n",
              "    .dataframe tbody tr th {\n",
              "        vertical-align: top;\n",
              "    }\n",
              "\n",
              "    .dataframe thead th {\n",
              "        text-align: right;\n",
              "    }\n",
              "</style>\n",
              "<table border=\"1\" class=\"dataframe\">\n",
              "  <thead>\n",
              "    <tr style=\"text-align: right;\">\n",
              "      <th></th>\n",
              "      <th>rating</th>\n",
              "      <th>helpful_count</th>\n",
              "      <th>review_length</th>\n",
              "    </tr>\n",
              "  </thead>\n",
              "  <tbody>\n",
              "    <tr>\n",
              "      <th>rating</th>\n",
              "      <td>1.000000</td>\n",
              "      <td>-0.020391</td>\n",
              "      <td>-0.117859</td>\n",
              "    </tr>\n",
              "    <tr>\n",
              "      <th>helpful_count</th>\n",
              "      <td>-0.020391</td>\n",
              "      <td>1.000000</td>\n",
              "      <td>0.403603</td>\n",
              "    </tr>\n",
              "    <tr>\n",
              "      <th>review_length</th>\n",
              "      <td>-0.117859</td>\n",
              "      <td>0.403603</td>\n",
              "      <td>1.000000</td>\n",
              "    </tr>\n",
              "  </tbody>\n",
              "</table>\n",
              "</div>\n",
              "    <div class=\"colab-df-buttons\">\n",
              "\n",
              "  <div class=\"colab-df-container\">\n",
              "    <button class=\"colab-df-convert\" onclick=\"convertToInteractive('df-1b7c8039-9895-45c3-83db-4630d9c9952e')\"\n",
              "            title=\"Convert this dataframe to an interactive table.\"\n",
              "            style=\"display:none;\">\n",
              "\n",
              "  <svg xmlns=\"http://www.w3.org/2000/svg\" height=\"24px\" viewBox=\"0 -960 960 960\">\n",
              "    <path d=\"M120-120v-720h720v720H120Zm60-500h600v-160H180v160Zm220 220h160v-160H400v160Zm0 220h160v-160H400v160ZM180-400h160v-160H180v160Zm440 0h160v-160H620v160ZM180-180h160v-160H180v160Zm440 0h160v-160H620v160Z\"/>\n",
              "  </svg>\n",
              "    </button>\n",
              "\n",
              "  <style>\n",
              "    .colab-df-container {\n",
              "      display:flex;\n",
              "      gap: 12px;\n",
              "    }\n",
              "\n",
              "    .colab-df-convert {\n",
              "      background-color: #E8F0FE;\n",
              "      border: none;\n",
              "      border-radius: 50%;\n",
              "      cursor: pointer;\n",
              "      display: none;\n",
              "      fill: #1967D2;\n",
              "      height: 32px;\n",
              "      padding: 0 0 0 0;\n",
              "      width: 32px;\n",
              "    }\n",
              "\n",
              "    .colab-df-convert:hover {\n",
              "      background-color: #E2EBFA;\n",
              "      box-shadow: 0px 1px 2px rgba(60, 64, 67, 0.3), 0px 1px 3px 1px rgba(60, 64, 67, 0.15);\n",
              "      fill: #174EA6;\n",
              "    }\n",
              "\n",
              "    .colab-df-buttons div {\n",
              "      margin-bottom: 4px;\n",
              "    }\n",
              "\n",
              "    [theme=dark] .colab-df-convert {\n",
              "      background-color: #3B4455;\n",
              "      fill: #D2E3FC;\n",
              "    }\n",
              "\n",
              "    [theme=dark] .colab-df-convert:hover {\n",
              "      background-color: #434B5C;\n",
              "      box-shadow: 0px 1px 3px 1px rgba(0, 0, 0, 0.15);\n",
              "      filter: drop-shadow(0px 1px 2px rgba(0, 0, 0, 0.3));\n",
              "      fill: #FFFFFF;\n",
              "    }\n",
              "  </style>\n",
              "\n",
              "    <script>\n",
              "      const buttonEl =\n",
              "        document.querySelector('#df-1b7c8039-9895-45c3-83db-4630d9c9952e button.colab-df-convert');\n",
              "      buttonEl.style.display =\n",
              "        google.colab.kernel.accessAllowed ? 'block' : 'none';\n",
              "\n",
              "      async function convertToInteractive(key) {\n",
              "        const element = document.querySelector('#df-1b7c8039-9895-45c3-83db-4630d9c9952e');\n",
              "        const dataTable =\n",
              "          await google.colab.kernel.invokeFunction('convertToInteractive',\n",
              "                                                    [key], {});\n",
              "        if (!dataTable) return;\n",
              "\n",
              "        const docLinkHtml = 'Like what you see? Visit the ' +\n",
              "          '<a target=\"_blank\" href=https://colab.research.google.com/notebooks/data_table.ipynb>data table notebook</a>'\n",
              "          + ' to learn more about interactive tables.';\n",
              "        element.innerHTML = '';\n",
              "        dataTable['output_type'] = 'display_data';\n",
              "        await google.colab.output.renderOutput(dataTable, element);\n",
              "        const docLink = document.createElement('div');\n",
              "        docLink.innerHTML = docLinkHtml;\n",
              "        element.appendChild(docLink);\n",
              "      }\n",
              "    </script>\n",
              "  </div>\n",
              "\n",
              "\n",
              "<div id=\"df-bdacdbb1-2f75-48ce-90e1-afea71cccd08\">\n",
              "  <button class=\"colab-df-quickchart\" onclick=\"quickchart('df-bdacdbb1-2f75-48ce-90e1-afea71cccd08')\"\n",
              "            title=\"Suggest charts\"\n",
              "            style=\"display:none;\">\n",
              "\n",
              "<svg xmlns=\"http://www.w3.org/2000/svg\" height=\"24px\"viewBox=\"0 0 24 24\"\n",
              "     width=\"24px\">\n",
              "    <g>\n",
              "        <path d=\"M19 3H5c-1.1 0-2 .9-2 2v14c0 1.1.9 2 2 2h14c1.1 0 2-.9 2-2V5c0-1.1-.9-2-2-2zM9 17H7v-7h2v7zm4 0h-2V7h2v10zm4 0h-2v-4h2v4z\"/>\n",
              "    </g>\n",
              "</svg>\n",
              "  </button>\n",
              "\n",
              "<style>\n",
              "  .colab-df-quickchart {\n",
              "      --bg-color: #E8F0FE;\n",
              "      --fill-color: #1967D2;\n",
              "      --hover-bg-color: #E2EBFA;\n",
              "      --hover-fill-color: #174EA6;\n",
              "      --disabled-fill-color: #AAA;\n",
              "      --disabled-bg-color: #DDD;\n",
              "  }\n",
              "\n",
              "  [theme=dark] .colab-df-quickchart {\n",
              "      --bg-color: #3B4455;\n",
              "      --fill-color: #D2E3FC;\n",
              "      --hover-bg-color: #434B5C;\n",
              "      --hover-fill-color: #FFFFFF;\n",
              "      --disabled-bg-color: #3B4455;\n",
              "      --disabled-fill-color: #666;\n",
              "  }\n",
              "\n",
              "  .colab-df-quickchart {\n",
              "    background-color: var(--bg-color);\n",
              "    border: none;\n",
              "    border-radius: 50%;\n",
              "    cursor: pointer;\n",
              "    display: none;\n",
              "    fill: var(--fill-color);\n",
              "    height: 32px;\n",
              "    padding: 0;\n",
              "    width: 32px;\n",
              "  }\n",
              "\n",
              "  .colab-df-quickchart:hover {\n",
              "    background-color: var(--hover-bg-color);\n",
              "    box-shadow: 0 1px 2px rgba(60, 64, 67, 0.3), 0 1px 3px 1px rgba(60, 64, 67, 0.15);\n",
              "    fill: var(--button-hover-fill-color);\n",
              "  }\n",
              "\n",
              "  .colab-df-quickchart-complete:disabled,\n",
              "  .colab-df-quickchart-complete:disabled:hover {\n",
              "    background-color: var(--disabled-bg-color);\n",
              "    fill: var(--disabled-fill-color);\n",
              "    box-shadow: none;\n",
              "  }\n",
              "\n",
              "  .colab-df-spinner {\n",
              "    border: 2px solid var(--fill-color);\n",
              "    border-color: transparent;\n",
              "    border-bottom-color: var(--fill-color);\n",
              "    animation:\n",
              "      spin 1s steps(1) infinite;\n",
              "  }\n",
              "\n",
              "  @keyframes spin {\n",
              "    0% {\n",
              "      border-color: transparent;\n",
              "      border-bottom-color: var(--fill-color);\n",
              "      border-left-color: var(--fill-color);\n",
              "    }\n",
              "    20% {\n",
              "      border-color: transparent;\n",
              "      border-left-color: var(--fill-color);\n",
              "      border-top-color: var(--fill-color);\n",
              "    }\n",
              "    30% {\n",
              "      border-color: transparent;\n",
              "      border-left-color: var(--fill-color);\n",
              "      border-top-color: var(--fill-color);\n",
              "      border-right-color: var(--fill-color);\n",
              "    }\n",
              "    40% {\n",
              "      border-color: transparent;\n",
              "      border-right-color: var(--fill-color);\n",
              "      border-top-color: var(--fill-color);\n",
              "    }\n",
              "    60% {\n",
              "      border-color: transparent;\n",
              "      border-right-color: var(--fill-color);\n",
              "    }\n",
              "    80% {\n",
              "      border-color: transparent;\n",
              "      border-right-color: var(--fill-color);\n",
              "      border-bottom-color: var(--fill-color);\n",
              "    }\n",
              "    90% {\n",
              "      border-color: transparent;\n",
              "      border-bottom-color: var(--fill-color);\n",
              "    }\n",
              "  }\n",
              "</style>\n",
              "\n",
              "  <script>\n",
              "    async function quickchart(key) {\n",
              "      const quickchartButtonEl =\n",
              "        document.querySelector('#' + key + ' button');\n",
              "      quickchartButtonEl.disabled = true;  // To prevent multiple clicks.\n",
              "      quickchartButtonEl.classList.add('colab-df-spinner');\n",
              "      try {\n",
              "        const charts = await google.colab.kernel.invokeFunction(\n",
              "            'suggestCharts', [key], {});\n",
              "      } catch (error) {\n",
              "        console.error('Error during call to suggestCharts:', error);\n",
              "      }\n",
              "      quickchartButtonEl.classList.remove('colab-df-spinner');\n",
              "      quickchartButtonEl.classList.add('colab-df-quickchart-complete');\n",
              "    }\n",
              "    (() => {\n",
              "      let quickchartButtonEl =\n",
              "        document.querySelector('#df-bdacdbb1-2f75-48ce-90e1-afea71cccd08 button');\n",
              "      quickchartButtonEl.style.display =\n",
              "        google.colab.kernel.accessAllowed ? 'block' : 'none';\n",
              "    })();\n",
              "  </script>\n",
              "</div>\n",
              "\n",
              "    </div>\n",
              "  </div>\n"
            ],
            "text/plain": [
              "                 rating  helpful_count  review_length\n",
              "rating         1.000000      -0.020391      -0.117859\n",
              "helpful_count -0.020391       1.000000       0.403603\n",
              "review_length -0.117859       0.403603       1.000000"
            ]
          },
          "execution_count": 28,
          "metadata": {},
          "output_type": "execute_result"
        }
      ],
      "source": [
        "data[['rating','helpful_count','review_length']].corr()"
      ]
    },
    {
      "cell_type": "markdown",
      "metadata": {
        "id": "UbOaHn44mqyE"
      },
      "source": [
        "There is a considerable correlation between length of the reviews and the number of people who have marked these reviews as helpful. Now, let's delve deeper."
      ]
    },
    {
      "cell_type": "code",
      "execution_count": null,
      "metadata": {
        "colab": {
          "base_uri": "https://localhost:8080/",
          "height": 572
        },
        "id": "rDslqMg3liEp",
        "outputId": "4d1764e4-8fc1-4959-a790-daec0fecbc29"
      },
      "outputs": [
        {
          "name": "stdout",
          "output_type": "stream",
          "text": [
            "        is_verified  helpful_count  review_length\n",
            "rating                                           \n",
            "1                12             82           8753\n",
            "2                19           2022          30522\n",
            "3                92            873         165920\n",
            "4               257           3337         333167\n",
            "5               620          11571         644163\n"
          ]
        },
        {
          "data": {
            "image/png": "[encoded data removed]",
            "text/plain": [
              "<Figure size 640x480 with 1 Axes>"
            ]
          },
          "metadata": {},
          "output_type": "display_data"
        }
      ],
      "source": [
        "grouped_sum = data.groupby('rating').sum(numeric_only=True)\n",
        "print(grouped_sum)\n",
        "plt.plot(grouped_sum['review_length'], grouped_sum['helpful_count'])\n",
        "plt.xticks(np.arange(0, 6, step=1))\n",
        "plt.xlabel(\"Review Length\")\n",
        "plt.ylabel(\"Helpful Count\")\n",
        "plt.show()"
      ]
    },
    {
      "cell_type": "markdown",
      "metadata": {
        "id": "tWNPdOIZmwx5"
      },
      "source": [
        "Considerably linear relationship is visible at increased review lengths"
      ]
    },
    {
      "cell_type": "markdown",
      "metadata": {
        "id": "MPeXScFFgOuZ"
      },
      "source": [
        "### 5.3 Descriptive Statistics\n",
        "\n",
        "*   The distribution of rating is left skewed, with a larger number of good reviews for all our selected products\n",
        "*  More than 60% of the reviews are 5 star rated and around 25% of the reviews are 4 star rated. The presence of the other ratings are very minimal\n",
        "*   Most number of poorly rated reviews come from Audio-Technica, thus reducing the intensity of the competition offered to Beats\n",
        "*   Generally, the better rated reviews are more helpful to the customers than the poorer ones\n",
        "*   Lengthy reviews are more helpful to the customers than the shorter ones. Increased length indicates that those reviews are more detailed and explains better, thus proving more helpful to the customers\n",
        "\n",
        "\n",
        "\n",
        "\n",
        "\n",
        "\n",
        "\n"
      ]
    },
    {
      "cell_type": "markdown",
      "metadata": {
        "id": "-iMv0E-wgRcc"
      },
      "source": [
        "## 6. Sentiment Analysis\n",
        "\n",
        "### 6.1 Methodology\n",
        "\n",
        "*  Uses Textblob to analyze the review content, calculate the polarity and tag the reviews as positive, negative or neutral\n",
        "*  Create a new column named 'sentiment' and populate them with these respective labels\n",
        "*   Calculate the aggregated sentiment scores and generalize the sentiments\n",
        "*   Analyze the same sentiments per brand as well"
      ]
    },
    {
      "cell_type": "code",
      "execution_count": null,
      "metadata": {
        "colab": {
          "base_uri": "https://localhost:8080/"
        },
        "id": "2HCA-3rzwhDS",
        "outputId": "029bfc70-c9d9-41a1-ff2f-b91b715cee3d"
      },
      "outputs": [
        {
          "name": "stdout",
          "output_type": "stream",
          "text": [
            "Requirement already satisfied: textblob in /usr/local/lib/python3.10/dist-packages (0.17.1)\n",
            "Requirement already satisfied: nltk>=3.1 in /usr/local/lib/python3.10/dist-packages (from textblob) (3.8.1)\n",
            "Requirement already satisfied: click in /usr/local/lib/python3.10/dist-packages (from nltk>=3.1->textblob) (8.1.7)\n",
            "Requirement already satisfied: joblib in /usr/local/lib/python3.10/dist-packages (from nltk>=3.1->textblob) (1.4.2)\n",
            "Requirement already satisfied: regex>=2021.8.3 in /usr/local/lib/python3.10/dist-packages (from nltk>=3.1->textblob) (2024.5.15)\n",
            "Requirement already satisfied: tqdm in /usr/local/lib/python3.10/dist-packages (from nltk>=3.1->textblob) (4.66.5)\n"
          ]
        }
      ],
      "source": [
        "!pip install textblob"
      ]
    },
    {
      "cell_type": "code",
      "execution_count": null,
      "metadata": {
        "colab": {
          "base_uri": "https://localhost:8080/",
          "height": 608
        },
        "id": "3CdtKnwPgThE",
        "outputId": "f80b5cf6-c27f-4c50-89c0-62f052cc450c"
      },
      "outputs": [
        {
          "data": {
            "application/vnd.google.colaboratory.intrinsic+json": {
              "summary": "{\n  \"name\": \"data\",\n  \"rows\": 1000,\n  \"fields\": [\n    {\n      \"column\": \"review_id\",\n      \"properties\": {\n        \"dtype\": \"string\",\n        \"num_unique_values\": 1000,\n        \"samples\": [\n          \"R3IHF8HGK6SEZW\",\n          \"R2DR1WUY1J1TZW\",\n          \"R1PMLMQO06HC4\"\n        ],\n        \"semantic_type\": \"\",\n        \"description\": \"\"\n      }\n    },\n    {\n      \"column\": \"product_id\",\n      \"properties\": {\n        \"dtype\": \"string\",\n        \"num_unique_values\": 10,\n        \"samples\": [\n          \"B00SC80YLM\",\n          \"B07DHHXZRN\",\n          \"B0CCZ26B5V\"\n        ],\n        \"semantic_type\": \"\",\n        \"description\": \"\"\n      }\n    },\n    {\n      \"column\": \"title\",\n      \"properties\": {\n        \"dtype\": \"string\",\n        \"num_unique_values\": 964,\n        \"samples\": [\n          \"5.0 out of 5 stars What world?\",\n          \"5.0 out of 5 stars Buy them... With a Caveat\",\n          \"5.0 out of 5 stars Great paired with tube amp, punches way above class\"\n        ],\n        \"semantic_type\": \"\",\n        \"description\": \"\"\n      }\n    },\n    {\n      \"column\": \"author\",\n      \"properties\": {\n        \"dtype\": \"string\",\n        \"num_unique_values\": 921,\n        \"samples\": [\n          \"Indigo\",\n          \"R.Chapman\",\n          \"Sophie Hopkins\"\n        ],\n        \"semantic_type\": \"\",\n        \"description\": \"\"\n      }\n    },\n    {\n      \"column\": \"rating\",\n      \"properties\": {\n        \"dtype\": \"number\",\n        \"std\": 0,\n        \"min\": 1,\n        \"max\": 5,\n        \"num_unique_values\": 5,\n        \"samples\": [\n          4,\n          1,\n          3\n        ],\n        \"semantic_type\": \"\",\n        \"description\": \"\"\n      }\n    },\n    {\n      \"column\": \"content\",\n      \"properties\": {\n        \"dtype\": \"string\",\n        \"num_unique_values\": 1000,\n        \"samples\": [\n          \"I usually stick to Sony, I liked the xm3, 4, tried the 5 and hated it and how CHEAP they felt. There's always a comfort issue with me. I always had to buy aftermarket pads just to get the things comfortable because they always squish into on-ear headphones.The Bose headphones are the most comfy wireless headphones I've ever owned and it's not even close. The sound is fantastic too. I'm sure the Sony's are \\\"technically\\\" better or something, but what the heck is the damn point if I have to take breaks every 45 minutes to avoid a headache!Anyway, they sound great, they're very comfortable.I mostly use \\\"aware\\\" mode and it's miles better than the xm4's I used to own. I can actually hear my surroundings or if someone's trying to get my attention at work. Noise cancellation mode is pretty good too for things like yard work or whatever also.They were an impulse buy but I'm a huge fan now.I should also mention they're incredibly lightweight. REALLY good clamp without giving me a headache either. Also unlike the xm5, the build quality is great despite them feeling so lightweight - proving you don't need to sacrifice build quality for weight.\",\n          \"I love these headphones. I decided on the XM4 over XM5 because of the reviews. They're comfortable, stay on, and the sound quality is amazing. I always wear these on the plane. I tend not to use them while working out because it's hot and humid where I live.\",\n          \"I wear prescription glasses all the time and over the ear headphones have been an issue forever. Typically the headphones would press against my glasses and cause pain / indentation near my temple and ears. These Sony are so comfy and durable I don't have any pain. The app allows for custom configuration to ensure awesome performance. Noise cancel works great, the auto switch while talking could use some work. Buttons are digital sense and take some time to get use to if your not familiar with them already carry case is bulky but headphones don't fold down as small and provides adequate protection for traveling.\"\n        ],\n        \"semantic_type\": \"\",\n        \"description\": \"\"\n      }\n    },\n    {\n      \"column\": \"timestamp\",\n      \"properties\": {\n        \"dtype\": \"date\",\n        \"min\": \"2010-12-27 00:00:00\",\n        \"max\": \"2024-08-05 00:00:00\",\n        \"num_unique_values\": 551,\n        \"samples\": [\n          \"2018-12-01 00:00:00\",\n          \"2023-08-16 00:00:00\",\n          \"2019-11-22 00:00:00\"\n        ],\n        \"semantic_type\": \"\",\n        \"description\": \"\"\n      }\n    },\n    {\n      \"column\": \"profile_id\",\n      \"properties\": {\n        \"dtype\": \"string\",\n        \"num_unique_values\": 996,\n        \"samples\": [\n          \"AHROUA7CNPZ5MIZVJCOVXQBM4MZQ\",\n          \"AFPPCRWK4WPJCJJHHO72SVOMZOKQ\",\n          \"AH4GZFH3BWFUJTLJ7P4QEFSWGZYA\"\n        ],\n        \"semantic_type\": \"\",\n        \"description\": \"\"\n      }\n    },\n    {\n      \"column\": \"is_verified\",\n      \"properties\": {\n        \"dtype\": \"number\",\n        \"std\": 0,\n        \"min\": 1,\n        \"max\": 1,\n        \"num_unique_values\": 1,\n        \"samples\": [\n          1\n        ],\n        \"semantic_type\": \"\",\n        \"description\": \"\"\n      }\n    },\n    {\n      \"column\": \"helpful_count\",\n      \"properties\": {\n        \"dtype\": \"number\",\n        \"std\": 101,\n        \"min\": 0,\n        \"max\": 1915,\n        \"num_unique_values\": 98,\n        \"samples\": [\n          19\n        ],\n        \"semantic_type\": \"\",\n        \"description\": \"\"\n      }\n    },\n    {\n      \"column\": \"product_attributes\",\n      \"properties\": {\n        \"dtype\": \"string\",\n        \"num_unique_values\": 30,\n        \"samples\": [\n          \"Style: Black\"\n        ],\n        \"semantic_type\": \"\",\n        \"description\": \"\"\n      }\n    },\n    {\n      \"column\": \"product_name\",\n      \"properties\": {\n        \"dtype\": \"category\",\n        \"num_unique_values\": 10,\n        \"samples\": [\n          \"Audio-Technica ATH-M70X Closed-Back Dynamic Professional Studio Monitor Headphones, Black\"\n        ],\n        \"semantic_type\": \"\",\n        \"description\": \"\"\n      }\n    },\n    {\n      \"column\": \"brand_name\",\n      \"properties\": {\n        \"dtype\": \"category\",\n        \"num_unique_values\": 5,\n        \"samples\": [\n          \"Beats\"\n        ],\n        \"semantic_type\": \"\",\n        \"description\": \"\"\n      }\n    },\n    {\n      \"column\": \"rating_level\",\n      \"properties\": {\n        \"dtype\": \"category\",\n        \"num_unique_values\": 2,\n        \"samples\": [\n          \"poor\"\n        ],\n        \"semantic_type\": \"\",\n        \"description\": \"\"\n      }\n    },\n    {\n      \"column\": \"review_length\",\n      \"properties\": {\n        \"dtype\": \"number\",\n        \"std\": 1491,\n        \"min\": 3,\n        \"max\": 19679,\n        \"num_unique_values\": 787,\n        \"samples\": [\n          418\n        ],\n        \"semantic_type\": \"\",\n        \"description\": \"\"\n      }\n    },\n    {\n      \"column\": \"sentiment\",\n      \"properties\": {\n        \"dtype\": \"category\",\n        \"num_unique_values\": 3,\n        \"samples\": [\n          \"positive\"\n        ],\n        \"semantic_type\": \"\",\n        \"description\": \"\"\n      }\n    }\n  ]\n}",
              "type": "dataframe",
              "variable_name": "data"
            },
            "text/html": [
              "\n",
              "  <div id=\"df-60e5a150-1cf6-4037-9d95-1fff1f37511f\" class=\"colab-df-container\">\n",
              "    <div>\n",
              "<style scoped>\n",
              "    .dataframe tbody tr th:only-of-type {\n",
              "        vertical-align: middle;\n",
              "    }\n",
              "\n",
              "    .dataframe tbody tr th {\n",
              "        vertical-align: top;\n",
              "    }\n",
              "\n",
              "    .dataframe thead th {\n",
              "        text-align: right;\n",
              "    }\n",
              "</style>\n",
              "<table border=\"1\" class=\"dataframe\">\n",
              "  <thead>\n",
              "    <tr style=\"text-align: right;\">\n",
              "      <th></th>\n",
              "      <th>review_id</th>\n",
              "      <th>product_id</th>\n",
              "      <th>title</th>\n",
              "      <th>author</th>\n",
              "      <th>rating</th>\n",
              "      <th>content</th>\n",
              "      <th>timestamp</th>\n",
              "      <th>profile_id</th>\n",
              "      <th>is_verified</th>\n",
              "      <th>helpful_count</th>\n",
              "      <th>product_attributes</th>\n",
              "      <th>product_name</th>\n",
              "      <th>brand_name</th>\n",
              "      <th>rating_level</th>\n",
              "      <th>review_length</th>\n",
              "      <th>sentiment</th>\n",
              "    </tr>\n",
              "  </thead>\n",
              "  <tbody>\n",
              "    <tr>\n",
              "      <th>0</th>\n",
              "      <td>R3IZCMYPSVY5MD</td>\n",
              "      <td>B00004SY4H</td>\n",
              "      <td>5.0 out of 5 stars So Nice, I Bought Them Twice</td>\n",
              "      <td>Alice Majdali</td>\n",
              "      <td>5</td>\n",
              "      <td>Updated (6/20/21) - HD600's are still a great ...</td>\n",
              "      <td>2017-06-19</td>\n",
              "      <td>AEMGPCOP7KJAQSGPZRNU2DBE2AXQ</td>\n",
              "      <td>1</td>\n",
              "      <td>23</td>\n",
              "      <td>Unknown</td>\n",
              "      <td>Sennheiser Consumer Audio HD 600 - Audiophile ...</td>\n",
              "      <td>Sennheiser</td>\n",
              "      <td>good</td>\n",
              "      <td>3580</td>\n",
              "      <td>positive</td>\n",
              "    </tr>\n",
              "    <tr>\n",
              "      <th>1</th>\n",
              "      <td>R2SDQ12KSFZO7</td>\n",
              "      <td>B00004SY4H</td>\n",
              "      <td>5.0 out of 5 stars A great headphone for $300</td>\n",
              "      <td>Bleak</td>\n",
              "      <td>5</td>\n",
              "      <td>For $300, the HD600 even with it's current che...</td>\n",
              "      <td>2022-03-22</td>\n",
              "      <td>AHQANXFCWQKJCPESVD227DUEXJWA</td>\n",
              "      <td>1</td>\n",
              "      <td>10</td>\n",
              "      <td>Unknown</td>\n",
              "      <td>Sennheiser Consumer Audio HD 600 - Audiophile ...</td>\n",
              "      <td>Sennheiser</td>\n",
              "      <td>good</td>\n",
              "      <td>2529</td>\n",
              "      <td>positive</td>\n",
              "    </tr>\n",
              "    <tr>\n",
              "      <th>2</th>\n",
              "      <td>R4WSXVUD6BPH</td>\n",
              "      <td>B00004SY4H</td>\n",
              "      <td>5.0 out of 5 stars Beautiful Headphones</td>\n",
              "      <td>M. Rickard</td>\n",
              "      <td>5</td>\n",
              "      <td>I have sort of an emotional attachment to thes...</td>\n",
              "      <td>2013-10-13</td>\n",
              "      <td>AGKZFMYNH2OTED2PX6B2HLEEXACA</td>\n",
              "      <td>1</td>\n",
              "      <td>11</td>\n",
              "      <td>Unknown</td>\n",
              "      <td>Sennheiser Consumer Audio HD 600 - Audiophile ...</td>\n",
              "      <td>Sennheiser</td>\n",
              "      <td>good</td>\n",
              "      <td>4599</td>\n",
              "      <td>positive</td>\n",
              "    </tr>\n",
              "    <tr>\n",
              "      <th>3</th>\n",
              "      <td>RYZNEGJZXKINY</td>\n",
              "      <td>B00004SY4H</td>\n",
              "      <td>5.0 out of 5 stars These are legends for a rea...</td>\n",
              "      <td>IommiFan85</td>\n",
              "      <td>5</td>\n",
              "      <td>General Thoughts: Coming from the Philips X2 t...</td>\n",
              "      <td>2015-10-06</td>\n",
              "      <td>AEQKFTGXHXK4VZVNJ4OLMIJYYRUA</td>\n",
              "      <td>1</td>\n",
              "      <td>11</td>\n",
              "      <td>Unknown</td>\n",
              "      <td>Sennheiser Consumer Audio HD 600 - Audiophile ...</td>\n",
              "      <td>Sennheiser</td>\n",
              "      <td>good</td>\n",
              "      <td>3985</td>\n",
              "      <td>positive</td>\n",
              "    </tr>\n",
              "    <tr>\n",
              "      <th>4</th>\n",
              "      <td>R12JTTAEXZ62I0</td>\n",
              "      <td>B00004SY4H</td>\n",
              "      <td>4.0 out of 5 stars Solid. But not for recording.</td>\n",
              "      <td>Jamie</td>\n",
              "      <td>4</td>\n",
              "      <td>Overall sound is lovely! Very true to tone, wo...</td>\n",
              "      <td>2024-07-20</td>\n",
              "      <td>AFYBVINSYY5VPS2B734AAX5SCHEQ</td>\n",
              "      <td>1</td>\n",
              "      <td>0</td>\n",
              "      <td>Unknown</td>\n",
              "      <td>Sennheiser Consumer Audio HD 600 - Audiophile ...</td>\n",
              "      <td>Sennheiser</td>\n",
              "      <td>good</td>\n",
              "      <td>1038</td>\n",
              "      <td>positive</td>\n",
              "    </tr>\n",
              "  </tbody>\n",
              "</table>\n",
              "</div>\n",
              "    <div class=\"colab-df-buttons\">\n",
              "\n",
              "  <div class=\"colab-df-container\">\n",
              "    <button class=\"colab-df-convert\" onclick=\"convertToInteractive('df-60e5a150-1cf6-4037-9d95-1fff1f37511f')\"\n",
              "            title=\"Convert this dataframe to an interactive table.\"\n",
              "            style=\"display:none;\">\n",
              "\n",
              "  <svg xmlns=\"http://www.w3.org/2000/svg\" height=\"24px\" viewBox=\"0 -960 960 960\">\n",
              "    <path d=\"M120-120v-720h720v720H120Zm60-500h600v-160H180v160Zm220 220h160v-160H400v160Zm0 220h160v-160H400v160ZM180-400h160v-160H180v160Zm440 0h160v-160H620v160ZM180-180h160v-160H180v160Zm440 0h160v-160H620v160Z\"/>\n",
              "  </svg>\n",
              "    </button>\n",
              "\n",
              "  <style>\n",
              "    .colab-df-container {\n",
              "      display:flex;\n",
              "      gap: 12px;\n",
              "    }\n",
              "\n",
              "    .colab-df-convert {\n",
              "      background-color: #E8F0FE;\n",
              "      border: none;\n",
              "      border-radius: 50%;\n",
              "      cursor: pointer;\n",
              "      display: none;\n",
              "      fill: #1967D2;\n",
              "      height: 32px;\n",
              "      padding: 0 0 0 0;\n",
              "      width: 32px;\n",
              "    }\n",
              "\n",
              "    .colab-df-convert:hover {\n",
              "      background-color: #E2EBFA;\n",
              "      box-shadow: 0px 1px 2px rgba(60, 64, 67, 0.3), 0px 1px 3px 1px rgba(60, 64, 67, 0.15);\n",
              "      fill: #174EA6;\n",
              "    }\n",
              "\n",
              "    .colab-df-buttons div {\n",
              "      margin-bottom: 4px;\n",
              "    }\n",
              "\n",
              "    [theme=dark] .colab-df-convert {\n",
              "      background-color: #3B4455;\n",
              "      fill: #D2E3FC;\n",
              "    }\n",
              "\n",
              "    [theme=dark] .colab-df-convert:hover {\n",
              "      background-color: #434B5C;\n",
              "      box-shadow: 0px 1px 3px 1px rgba(0, 0, 0, 0.15);\n",
              "      filter: drop-shadow(0px 1px 2px rgba(0, 0, 0, 0.3));\n",
              "      fill: #FFFFFF;\n",
              "    }\n",
              "  </style>\n",
              "\n",
              "    <script>\n",
              "      const buttonEl =\n",
              "        document.querySelector('#df-60e5a150-1cf6-4037-9d95-1fff1f37511f button.colab-df-convert');\n",
              "      buttonEl.style.display =\n",
              "        google.colab.kernel.accessAllowed ? 'block' : 'none';\n",
              "\n",
              "      async function convertToInteractive(key) {\n",
              "        const element = document.querySelector('#df-60e5a150-1cf6-4037-9d95-1fff1f37511f');\n",
              "        const dataTable =\n",
              "          await google.colab.kernel.invokeFunction('convertToInteractive',\n",
              "                                                    [key], {});\n",
              "        if (!dataTable) return;\n",
              "\n",
              "        const docLinkHtml = 'Like what you see? Visit the ' +\n",
              "          '<a target=\"_blank\" href=https://colab.research.google.com/notebooks/data_table.ipynb>data table notebook</a>'\n",
              "          + ' to learn more about interactive tables.';\n",
              "        element.innerHTML = '';\n",
              "        dataTable['output_type'] = 'display_data';\n",
              "        await google.colab.output.renderOutput(dataTable, element);\n",
              "        const docLink = document.createElement('div');\n",
              "        docLink.innerHTML = docLinkHtml;\n",
              "        element.appendChild(docLink);\n",
              "      }\n",
              "    </script>\n",
              "  </div>\n",
              "\n",
              "\n",
              "<div id=\"df-9d98b276-6aae-4360-801b-5994d119470a\">\n",
              "  <button class=\"colab-df-quickchart\" onclick=\"quickchart('df-9d98b276-6aae-4360-801b-5994d119470a')\"\n",
              "            title=\"Suggest charts\"\n",
              "            style=\"display:none;\">\n",
              "\n",
              "<svg xmlns=\"http://www.w3.org/2000/svg\" height=\"24px\"viewBox=\"0 0 24 24\"\n",
              "     width=\"24px\">\n",
              "    <g>\n",
              "        <path d=\"M19 3H5c-1.1 0-2 .9-2 2v14c0 1.1.9 2 2 2h14c1.1 0 2-.9 2-2V5c0-1.1-.9-2-2-2zM9 17H7v-7h2v7zm4 0h-2V7h2v10zm4 0h-2v-4h2v4z\"/>\n",
              "    </g>\n",
              "</svg>\n",
              "  </button>\n",
              "\n",
              "<style>\n",
              "  .colab-df-quickchart {\n",
              "      --bg-color: #E8F0FE;\n",
              "      --fill-color: #1967D2;\n",
              "      --hover-bg-color: #E2EBFA;\n",
              "      --hover-fill-color: #174EA6;\n",
              "      --disabled-fill-color: #AAA;\n",
              "      --disabled-bg-color: #DDD;\n",
              "  }\n",
              "\n",
              "  [theme=dark] .colab-df-quickchart {\n",
              "      --bg-color: #3B4455;\n",
              "      --fill-color: #D2E3FC;\n",
              "      --hover-bg-color: #434B5C;\n",
              "      --hover-fill-color: #FFFFFF;\n",
              "      --disabled-bg-color: #3B4455;\n",
              "      --disabled-fill-color: #666;\n",
              "  }\n",
              "\n",
              "  .colab-df-quickchart {\n",
              "    background-color: var(--bg-color);\n",
              "    border: none;\n",
              "    border-radius: 50%;\n",
              "    cursor: pointer;\n",
              "    display: none;\n",
              "    fill: var(--fill-color);\n",
              "    height: 32px;\n",
              "    padding: 0;\n",
              "    width: 32px;\n",
              "  }\n",
              "\n",
              "  .colab-df-quickchart:hover {\n",
              "    background-color: var(--hover-bg-color);\n",
              "    box-shadow: 0 1px 2px rgba(60, 64, 67, 0.3), 0 1px 3px 1px rgba(60, 64, 67, 0.15);\n",
              "    fill: var(--button-hover-fill-color);\n",
              "  }\n",
              "\n",
              "  .colab-df-quickchart-complete:disabled,\n",
              "  .colab-df-quickchart-complete:disabled:hover {\n",
              "    background-color: var(--disabled-bg-color);\n",
              "    fill: var(--disabled-fill-color);\n",
              "    box-shadow: none;\n",
              "  }\n",
              "\n",
              "  .colab-df-spinner {\n",
              "    border: 2px solid var(--fill-color);\n",
              "    border-color: transparent;\n",
              "    border-bottom-color: var(--fill-color);\n",
              "    animation:\n",
              "      spin 1s steps(1) infinite;\n",
              "  }\n",
              "\n",
              "  @keyframes spin {\n",
              "    0% {\n",
              "      border-color: transparent;\n",
              "      border-bottom-color: var(--fill-color);\n",
              "      border-left-color: var(--fill-color);\n",
              "    }\n",
              "    20% {\n",
              "      border-color: transparent;\n",
              "      border-left-color: var(--fill-color);\n",
              "      border-top-color: var(--fill-color);\n",
              "    }\n",
              "    30% {\n",
              "      border-color: transparent;\n",
              "      border-left-color: var(--fill-color);\n",
              "      border-top-color: var(--fill-color);\n",
              "      border-right-color: var(--fill-color);\n",
              "    }\n",
              "    40% {\n",
              "      border-color: transparent;\n",
              "      border-right-color: var(--fill-color);\n",
              "      border-top-color: var(--fill-color);\n",
              "    }\n",
              "    60% {\n",
              "      border-color: transparent;\n",
              "      border-right-color: var(--fill-color);\n",
              "    }\n",
              "    80% {\n",
              "      border-color: transparent;\n",
              "      border-right-color: var(--fill-color);\n",
              "      border-bottom-color: var(--fill-color);\n",
              "    }\n",
              "    90% {\n",
              "      border-color: transparent;\n",
              "      border-bottom-color: var(--fill-color);\n",
              "    }\n",
              "  }\n",
              "</style>\n",
              "\n",
              "  <script>\n",
              "    async function quickchart(key) {\n",
              "      const quickchartButtonEl =\n",
              "        document.querySelector('#' + key + ' button');\n",
              "      quickchartButtonEl.disabled = true;  // To prevent multiple clicks.\n",
              "      quickchartButtonEl.classList.add('colab-df-spinner');\n",
              "      try {\n",
              "        const charts = await google.colab.kernel.invokeFunction(\n",
              "            'suggestCharts', [key], {});\n",
              "      } catch (error) {\n",
              "        console.error('Error during call to suggestCharts:', error);\n",
              "      }\n",
              "      quickchartButtonEl.classList.remove('colab-df-spinner');\n",
              "      quickchartButtonEl.classList.add('colab-df-quickchart-complete');\n",
              "    }\n",
              "    (() => {\n",
              "      let quickchartButtonEl =\n",
              "        document.querySelector('#df-9d98b276-6aae-4360-801b-5994d119470a button');\n",
              "      quickchartButtonEl.style.display =\n",
              "        google.colab.kernel.accessAllowed ? 'block' : 'none';\n",
              "    })();\n",
              "  </script>\n",
              "</div>\n",
              "\n",
              "    </div>\n",
              "  </div>\n"
            ],
            "text/plain": [
              "        review_id  product_id  \\\n",
              "0  R3IZCMYPSVY5MD  B00004SY4H   \n",
              "1   R2SDQ12KSFZO7  B00004SY4H   \n",
              "2    R4WSXVUD6BPH  B00004SY4H   \n",
              "3   RYZNEGJZXKINY  B00004SY4H   \n",
              "4  R12JTTAEXZ62I0  B00004SY4H   \n",
              "\n",
              "                                               title         author  rating  \\\n",
              "0    5.0 out of 5 stars So Nice, I Bought Them Twice  Alice Majdali       5   \n",
              "1      5.0 out of 5 stars A great headphone for $300          Bleak       5   \n",
              "2            5.0 out of 5 stars Beautiful Headphones     M. Rickard       5   \n",
              "3  5.0 out of 5 stars These are legends for a rea...     IommiFan85       5   \n",
              "4   4.0 out of 5 stars Solid. But not for recording.          Jamie       4   \n",
              "\n",
              "                                             content  timestamp  \\\n",
              "0  Updated (6/20/21) - HD600's are still a great ... 2017-06-19   \n",
              "1  For $300, the HD600 even with it's current che... 2022-03-22   \n",
              "2  I have sort of an emotional attachment to thes... 2013-10-13   \n",
              "3  General Thoughts: Coming from the Philips X2 t... 2015-10-06   \n",
              "4  Overall sound is lovely! Very true to tone, wo... 2024-07-20   \n",
              "\n",
              "                     profile_id  is_verified  helpful_count  \\\n",
              "0  AEMGPCOP7KJAQSGPZRNU2DBE2AXQ            1             23   \n",
              "1  AHQANXFCWQKJCPESVD227DUEXJWA            1             10   \n",
              "2  AGKZFMYNH2OTED2PX6B2HLEEXACA            1             11   \n",
              "3  AEQKFTGXHXK4VZVNJ4OLMIJYYRUA            1             11   \n",
              "4  AFYBVINSYY5VPS2B734AAX5SCHEQ            1              0   \n",
              "\n",
              "  product_attributes                                       product_name  \\\n",
              "0            Unknown  Sennheiser Consumer Audio HD 600 - Audiophile ...   \n",
              "1            Unknown  Sennheiser Consumer Audio HD 600 - Audiophile ...   \n",
              "2            Unknown  Sennheiser Consumer Audio HD 600 - Audiophile ...   \n",
              "3            Unknown  Sennheiser Consumer Audio HD 600 - Audiophile ...   \n",
              "4            Unknown  Sennheiser Consumer Audio HD 600 - Audiophile ...   \n",
              "\n",
              "   brand_name rating_level  review_length sentiment  \n",
              "0  Sennheiser         good           3580  positive  \n",
              "1  Sennheiser         good           2529  positive  \n",
              "2  Sennheiser         good           4599  positive  \n",
              "3  Sennheiser         good           3985  positive  \n",
              "4  Sennheiser         good           1038  positive  "
            ]
          },
          "execution_count": 31,
          "metadata": {},
          "output_type": "execute_result"
        }
      ],
      "source": [
        "from textblob import TextBlob\n",
        "\n",
        "# Function to analyze sentiment using TextBlob\n",
        "def analyze_sentiment(review):\n",
        "    blob = TextBlob(review)\n",
        "    polarity = blob.sentiment.polarity\n",
        "    if polarity > 0:\n",
        "        return 'positive'\n",
        "    elif polarity < 0:\n",
        "        return 'negative'\n",
        "    else:\n",
        "        return 'neutral'\n",
        "\n",
        "# Apply sentiment analysis\n",
        "data['sentiment'] = data['content'].apply(analyze_sentiment)\n",
        "# Display data with sentiment\n",
        "data.head()"
      ]
    },
    {
      "cell_type": "markdown",
      "metadata": {
        "id": "0DBNIEkXgkQl"
      },
      "source": [
        "### 6.2 Results\n",
        "\n"
      ]
    },
    {
      "cell_type": "code",
      "execution_count": null,
      "metadata": {
        "colab": {
          "base_uri": "https://localhost:8080/"
        },
        "id": "td42gqxbgnIO",
        "outputId": "021a9dbb-e136-4a8e-8b74-c0eb7b1c0baa"
      },
      "outputs": [
        {
          "name": "stdout",
          "output_type": "stream",
          "text": [
            "\n",
            "Sentiment Counts:\n",
            " sentiment\n",
            "positive    963\n",
            "negative     23\n",
            "neutral      14\n",
            "Name: count, dtype: int64\n",
            "\n",
            "Overall Consumer Sentiment: positive\n"
          ]
        }
      ],
      "source": [
        "# Aggregate sentiment scores\n",
        "sentiment_counts = data['sentiment'].value_counts()\n",
        "print(\"\\nSentiment Counts:\\n\", sentiment_counts)\n",
        "# Assess overall sentiment\n",
        "overall_sentiment = sentiment_counts.idxmax()\n",
        "print(f\"\\nOverall Consumer Sentiment: {overall_sentiment}\")"
      ]
    },
    {
      "cell_type": "code",
      "execution_count": null,
      "metadata": {
        "colab": {
          "base_uri": "https://localhost:8080/",
          "height": 479
        },
        "id": "EDHPOitgzkOQ",
        "outputId": "4537260c-0b12-40e5-8d83-6036b0543a3d"
      },
      "outputs": [
        {
          "data": {
            "image/png": "[encoded data removed]",
            "text/plain": [
              "<Figure size 640x480 with 1 Axes>"
            ]
          },
          "metadata": {},
          "output_type": "display_data"
        }
      ],
      "source": [
        "plt.bar(sentiment_counts.index, sentiment_counts.values)\n",
        "plt.title(\"Sentiment Distribution\", y=1.02)\n",
        "plt.xlabel(\"Sentiment Count\")\n",
        "plt.ylabel(\"Sentiment Label\")\n",
        "plt.show()"
      ]
    },
    {
      "cell_type": "code",
      "execution_count": null,
      "metadata": {
        "colab": {
          "base_uri": "https://localhost:8080/"
        },
        "id": "Kd7YphsPwsx5",
        "outputId": "879c58fe-a1f3-43b0-f4e3-e7b63e693fd1"
      },
      "outputs": [
        {
          "name": "stdout",
          "output_type": "stream",
          "text": [
            "\n",
            "Sentiment Counts per Brand:\n",
            "sentiment       negative  neutral  positive\n",
            "brand_name                                 \n",
            "Audio-Technica         6        2       192\n",
            "Beats                  3        6       191\n",
            "Bose                   3        2       195\n",
            "Sennheiser             8        3       189\n",
            "Sony                   3        1       196\n",
            "\n",
            "Overall Consumer Sentiment per Brand:\n",
            "brand_name\n",
            "Audio-Technica    positive\n",
            "Beats             positive\n",
            "Bose              positive\n",
            "Sennheiser        positive\n",
            "Sony              positive\n",
            "dtype: object\n"
          ]
        }
      ],
      "source": [
        "# Aggregate sentiment scores per brand\n",
        "sentiment_counts_per_brand = data.groupby('brand_name')['sentiment'].value_counts().unstack().fillna(0)\n",
        "print(\"\\nSentiment Counts per Brand:\")\n",
        "print(sentiment_counts_per_brand)\n",
        "\n",
        "# Determine overall sentiment per brand\n",
        "overall_sentiment_per_brand = sentiment_counts_per_brand.idxmax(axis=1)\n",
        "print(\"\\nOverall Consumer Sentiment per Brand:\")\n",
        "print(overall_sentiment_per_brand)"
      ]
    },
    {
      "cell_type": "markdown",
      "metadata": {
        "id": "sOIsv7lS_Roo"
      },
      "source": [
        "\n",
        "**When summarized:**\n",
        "\n",
        "* Most reviews are concentrated around the higher end of the scale, indicating that the majority of customers are generally satisfied with the products.\n",
        "* Ratings below 3 were identified as outliers. Though these reviews are comparitively less in number. I did not let go of them so that these can be investigated further to understand the reasons behind the low ratings.\n",
        "* Majority of reviews are classified as positive, followed by negative and neutral sentiments. Positive reviews often highlight aspects such as product quality, ease of use, and value for money.\n",
        "* Speaking brand specific, Beats has significant competition from all the selected competitor brands - but analying number positive rated reviews and review text sentiment - Bose and Sony are the biggest competitor\n",
        "\n",
        "**Potential Implications**\n",
        "\n",
        "*   Since the overall sentiment for Beats is positive, its a good news for the brand\n",
        "*   Few negative/poor reviews should be analysed separate to extract words that depict the negative sentiment, investigate the problem and work on it to improve more in product quality and in sales.\n",
        "* Some reviews can also be due to poor customer service. Such can be noted to improve the service more\n",
        "*  The positive words from the positive reviews can be taken into account so that the USP of Beats can be highlighted to develop even better marketing strategies\n",
        "\n",
        "\n"
      ]
    },
    {
      "cell_type": "markdown",
      "metadata": {
        "id": "DNwZT81EgnZx"
      },
      "source": [
        "## 7. AI-Generated Insights\n",
        "\n",
        "### 7.1 Using Gemini AI"
      ]
    },
    {
      "cell_type": "markdown",
      "metadata": {
        "id": "STb2ds2HROKu"
      },
      "source": [
        "\n",
        "\n",
        "*   Set up a project and retrieved a person API key from Google AI studio\n",
        "*   Used this confidential key to set up an API pipeline and gave prompts along with the data to Gemini AI\n",
        "*   Exercised AI prompt engineering to delve deep and collect AI generated insights\n"
      ]
    },
    {
      "cell_type": "code",
      "execution_count": null,
      "metadata": {
        "id": "c7FOv7m_gttl"
      },
      "outputs": [],
      "source": [
        "#My API Key\n",
        "api_key=\"put your key\"\n",
        "def analyze_reviews(api_key,reviews,prompt):\n",
        "\n",
        "  genai.configure(api_key=api_key)\n",
        "  model = genai.GenerativeModel(\n",
        "      model_name=\"gemini-1.5-flash\",\n",
        "      generation_config={\n",
        "          \"temperature\":1,\n",
        "          \"top_p\":0.95,\n",
        "          \"top_k\":64,\n",
        "          \"max_output_tokens\":8192,\n",
        "          \"response_mime_type\":\"text/plain\"\n",
        "      },\n",
        "  )\n",
        "  chat_session = model.start_chat(history=[])\n",
        "  response = chat_session.send_message(prompt.join(reviews))\n",
        "  return response.text"
      ]
    },
    {
      "cell_type": "markdown",
      "metadata": {
        "id": "BM4YDtA-9Lhu"
      },
      "source": [
        "\n",
        "\n",
        "*   Addressed negative reviews to extract pain points and most frequent complaint mentioned in these reviews\n",
        "*   Addressed positive reviews to analyse the strength of each feature and strengthen the marketing strategies\n",
        "*   Each of these were done in general context as well as for Beats by Dre specifically in order to understand it's customer feedback and general sentiments\n",
        "*   An example of a prompting code snippet is given below"
      ]
    },
    {
      "cell_type": "code",
      "execution_count": null,
      "metadata": {
        "colab": {
          "base_uri": "https://localhost:8080/",
          "height": 158
        },
        "id": "xiOJQQZy-FE5",
        "outputId": "9f2b4a9e-8f3c-424b-fc46-3e7a4fe276c6"
      },
      "outputs": [
        {
          "name": "stdout",
          "output_type": "stream",
          "text": [
            "Only **one** of the reviews mentions bad customer support. \n",
            "\n",
            "Here's why:\n",
            "\n",
            "* **Review 1:**  Explicitly states \"Contacted Apple and they state the warranty will not cover any issues. I am highly disappointed.\" This is a clear complaint about customer service (specifically, Apple's response to their warranty issue).\n",
            "* **Review 2:**  This review is entirely positive and doesn't mention any issues with customer service or support. \n",
            "\n"
          ]
        }
      ],
      "source": [
        "reviews = data[(data['sentiment'] == 'negative') & (data['brand_name']=='Beats')]['content'].tolist()\n",
        "prompt = \"How many comments mention bad customer support from the following reviews:\\\\n\\\\n\" + \"\\\\n\\\\n\"\n",
        "insights = analyze_reviews(api_key,reviews,prompt)\n",
        "print(insights)"
      ]
    },
    {
      "cell_type": "markdown",
      "metadata": {
        "id": "OEo40tlpGmve"
      },
      "source": [
        "### 7.2 Key Insights"
      ]
    },
    {
      "cell_type": "markdown",
      "metadata": {
        "id": "Ytb0BYEqgpfB"
      },
      "source": [
        "**Insight (1)**\n",
        "\n",
        "Major pain points highlighted in the negative reviews include issues related to design, connectivity, sound quality and customer service\n",
        "\n",
        "**Prompt**\n",
        "\n",
        "Analyze the following negative reviews and summarize the key pain points\n",
        "\n",
        "**Response**\n",
        "\n",
        "Here's a summary of the key pain points from the negative reviews:\n",
        "\n",
        "**General Issues:**\n",
        "\n",
        "* **Flimsy Design & Construction:**  Several reviews highlight concerns about the headphones' build quality, especially the weak connection points on the cables and the use of thin, creaky plastic.  This leads to frequent breakages and a short lifespan, especially with heavy use.\n",
        "* **Expensive Replacements:**  The cost of replacement cables and parts is criticized, especially when considering the relatively high initial price of the headphones. The lack of readily available and affordable aftermarket options also adds to the frustration.\n",
        "* **Bluetooth Connection Problems:** Many reviewers report issues with Bluetooth connectivity, including choppy audio, random disconnections, and unintended connections to multiple devices, especially when using the headphones with multiple Bluetooth sources (e.g., phone and TV).\n",
        "* **Touch Control Issues:** The touch controls on the headphones are often described as unreliable and prone to accidental activations, leading to unwanted changes in settings or playback.\n",
        "\n",
        "**Sound Quality & Features:**\n",
        "\n",
        "* **Sound Quality Not As Expected:**  While some reviews praise the sound quality, others find it to be average or even disappointing, especially compared to competitor products. Some reviewers mention a lack of bass, while others mention an overly analytical sound signature.\n",
        "* **Noise Cancellation Effectiveness:**  Reviews are mixed about the noise cancellation performance, with some finding it ineffective at blocking out specific types of noise like air conditioning.\n",
        "* **Microphone Issues:**  Several reviewers note that the microphone picks up ambient noise, making it unsuitable for clear communication in noisy environments.\n",
        "\n",
        "**Other Complaints:**\n",
        "\n",
        "* **Lack of Instructions:**  Some users complain about the lack of clear instructions for setup and use, requiring them to contact customer support or search online for information.\n",
        "* **Short Charging Cable:**  Reviewers criticize the short length of the charging cable, which makes it inconvenient to use with some power sources or setups.\n",
        "* **Unreliable Customer Support:**  Some reviews mention difficulties reaching customer support for RMA requests or other assistance.\n",
        "\n",
        "**Overall, the reviews indicate that while the headphones may offer decent sound quality, they are plagued by a number of design flaws and reliability issues. The flimsy construction, connectivity problems, touch control issues, and lack of durable and affordable replacement parts are significant concerns for potential buyers. These problems are compounded by the relatively high price point.**\n",
        "\n",
        "\n",
        "\n",
        "---\n",
        "\n"
      ]
    },
    {
      "cell_type": "markdown",
      "metadata": {
        "id": "HoFzdeXxHWzD"
      },
      "source": [
        "\n",
        "**Insight (2)**\n",
        "\n",
        "Reviews pertaining to these pain points are analyzed among the Beats headphone reviews, only to find one such review\n",
        "\n",
        "**Prompt**\n",
        "\n",
        "How many comments mention bad customer support from the following reviews?\n",
        "\n",
        "**Response**\n",
        "\n",
        "Only the first review mentions bad customer support.\n",
        "\n",
        "Here's why:\n",
        "\n",
        "* **Review 1:**  Explicitly states \"Contacted Apple and they state the warranty will not cover any issues\" indicating a negative customer support experience.\n",
        "* **Review 2:** This review focuses on the positive aspects of the product and doesn't mention any issues with customer support.\n",
        "\n",
        "Therefore, only **1 review** mentions bad customer support.\n",
        "\n",
        "\n",
        "\n",
        "---\n",
        "\n"
      ]
    },
    {
      "cell_type": "markdown",
      "metadata": {
        "id": "BrhtD2_XIgw0"
      },
      "source": [
        "\n",
        "**Insight (3)**\n",
        "\n",
        "The two major improvements suggested for improvement of Beats headphones are on sound quality and customer service\n",
        "\n",
        "**Prompt**\n",
        "\n",
        "Based on the reviews from these, suggest two main improvements for the product\n",
        "\n",
        "**Response**\n",
        "\n",
        "Based on the reviews, here are two main improvements for the headphones:\n",
        "\n",
        "1. **Improve Sound Quality, Especially Bass:** The first reviewer specifically mentions poor sound quality, especially with bass.  This suggests that the headphones may need a redesign of the drivers or the acoustic chamber to deliver a more balanced and powerful sound experience.\n",
        "2. **Offer Clearer Warranty Information:** The first reviewer was disappointed by the lack of an Apple iCare warranty when purchasing through Amazon. To address this, the manufacturer should:\n",
        "    * **Clearly state on product pages and packaging** if the warranty is offered for purchases from specific retailers (e.g., Amazon).\n",
        "    * **Provide a dedicated section** on their website with information about warranty coverage, including specifics for different retailers.\n",
        "\n",
        "These improvements would address the concerns raised by the reviewers and make the headphones more appealing to potential customers.\n",
        "\n",
        "\n",
        "---\n",
        "\n"
      ]
    },
    {
      "cell_type": "markdown",
      "metadata": {
        "id": "B3arFgC9HVuR"
      },
      "source": [
        "\n",
        "**Insight (4)**\n",
        "\n",
        "The major positive features about the Beats headphone are noise cancellation, comfort and battery life of which the best feature is selected\n",
        "\n",
        "**Prompt**\n",
        "\n",
        "What are the 3 main unique selling points of the product according to the reviews?\n",
        "\n",
        "**Response**\n",
        "\n",
        "Here are 3 common unique selling points of the Beats Studio 3 headphones, according to your provided reviews:\n",
        "\n",
        "1. **Excellent Noise Cancellation:**  Many reviewers praise the noise cancellation, highlighting its ability to effectively block out ambient noise like fans, trains, and even conversations. This makes them ideal for focusing on music, podcasts, or work in noisy environments.\n",
        "2. **Comfortable Fit:**  Reviewers consistently mention the comfortable fit of the Beats Studio 3. They describe the earcups as plush and the headband as well-padded, allowing for extended wear without discomfort.\n",
        "3. **Strong Battery Life:**  A common theme is the long battery life, often exceeding the advertised 22 hours with noise cancellation on. This is a big plus for frequent travelers or those who use their headphones for extended periods.\n"
      ]
    },
    {
      "cell_type": "markdown",
      "metadata": {
        "id": "Xnipe_rYgvQG"
      },
      "source": [
        "### 7.3 Interpretation\n"
      ]
    },
    {
      "cell_type": "markdown",
      "metadata": {
        "id": "juuT-QI4-nei"
      },
      "source": [
        "*   Out of the identified pain points, after checking for the presence of each of these negative points in the Beats review, only one review was found that highlights these\n",
        "*   It can be interpreted as a case of misplaced or damaged product shipped from the seller\n",
        "* The USP of Beats headphone is identified as it's amazing noise cancellation ability. Highlighting the noise cancellation feature would appeal to a wide audience, emphasizing a key benefit that many reviewers value and that distinguishes the headphones from competitors.\n",
        "\n"
      ]
    },
    {
      "cell_type": "markdown",
      "metadata": {
        "id": "GERtyCkwgxYw"
      },
      "source": [
        "## 8. Comparative Analysis\n",
        "\n",
        "### 8.1 Competitor Overview\n"
      ]
    },
    {
      "cell_type": "markdown",
      "metadata": {
        "id": "_z0tbxbxPRk1"
      },
      "source": [
        "### 1. **Beats by Dre**\n",
        "- **Positioning:** Focuses on style and brand appeal, targeting younger, fashion-conscious consumers. Known for a bass-heavy sound profile.\n",
        "- **Consumer Sentiment:** Highly positive, praised for design, comfort and noise cancellation but sometimes critiqued for an overpowering bass.\n",
        "\n",
        "### 2. **Audio-Technica**\n",
        "- **Positioning:** Appeals to audiophiles and professionals with accurate sound reproduction and competitive pricing.\n",
        "- **Consumer Sentiment:** Highly positive, especially for sound clarity and value for money.\n",
        "\n",
        "### 3. **Sony**\n",
        "- **Positioning:** Offers a range of headphones, excelling in noise-canceling and wireless technology, targeting tech-savvy consumers.\n",
        "- **Consumer Sentiment:** Very positive, particularly for noise cancellation and advanced features.\n",
        "\n",
        "### 4. **Bose**\n",
        "- **Positioning:** Specializes in premium noise-canceling headphones, targeting frequent travelers and professionals.\n",
        "- **Consumer Sentiment:** Highly positive, lauded for superior noise cancellation and comfort, albeit at a higher price point.\n",
        "\n",
        "### 5. **Sennheiser**\n",
        "- **Positioning:** Known for high-quality audio and durable build, targeting audiophiles and professionals seeking balanced sound.\n",
        "- **Consumer Sentiment:** Generally very positive, valued for sound quality and durability, though some products are more expensive.\n",
        "\n",
        "### **Overall Market Positioning**\n",
        "\n",
        "- **Beats by Dre** and **Sony** appeal to a wide audience, from young consumers to tech enthusiasts\n",
        "- **Audio-Technica** and **Sennheiser** cater to those prioritizing sound accuracy\n",
        "- **Bose** focuses on premium users who value bass and comfort, especially frequent travelers"
      ]
    },
    {
      "cell_type": "markdown",
      "metadata": {
        "id": "AGLyuZ8ggyf7"
      },
      "source": [
        "### 8.2 Comparison of Sentiments\n"
      ]
    },
    {
      "cell_type": "code",
      "execution_count": null,
      "metadata": {
        "colab": {
          "base_uri": "https://localhost:8080/",
          "height": 564
        },
        "id": "8eAPHehbg5hR",
        "outputId": "5bd45814-2228-4478-89a7-1ddf080b8e12"
      },
      "outputs": [
        {
          "data": {
            "image/png": "[encoded data removed]",
            "text/plain": [
              "<Figure size 1000x600 with 1 Axes>"
            ]
          },
          "metadata": {},
          "output_type": "display_data"
        }
      ],
      "source": [
        "# Set up the plot\n",
        "fig, ax = plt.subplots(figsize=(10, 6))\n",
        "# Define the width of each bar\n",
        "bar_width = 0.25\n",
        "# Set the position of each group of bars on the x-axis\n",
        "bar_positions = range(len(sentiment_counts_per_brand))\n",
        "\n",
        "# Plot each sentiment category as a separate set of bars\n",
        "ax.bar(bar_positions, sentiment_counts_per_brand['negative'], width=bar_width, label='Negative', color='red')\n",
        "ax.bar([p + bar_width for p in bar_positions], sentiment_counts_per_brand['neutral'], width=bar_width, label='Neutral', color='grey')\n",
        "ax.bar([p + bar_width*2 for p in bar_positions], sentiment_counts_per_brand['positive'], width=bar_width, label='Positive', color='green')\n",
        "\n",
        "# Set the x-axis labels to the brand names\n",
        "ax.set_xticks([p + bar_width for p in bar_positions])\n",
        "ax.set_xticklabels(sentiment_counts_per_brand.index)\n",
        "\n",
        "# Add labels and title\n",
        "ax.set_xlabel('Brand Name')\n",
        "ax.set_ylabel('Sentiment Counts')\n",
        "ax.set_title('Sentiment Counts per Brand')\n",
        "\n",
        "# Add a legend\n",
        "ax.legend()\n",
        "\n",
        "# Show the plot\n",
        "plt.show()"
      ]
    },
    {
      "cell_type": "markdown",
      "metadata": {
        "id": "WM3jaGEJQmUS"
      },
      "source": [
        "*   All the brands mostly have positive sentiment associated with them.\n",
        "*   Beats as a brand also have very high positive sentiments associated with their products.\n",
        "*   While it's competitor brands have more negative sentiments than neutral sentiments, Beats have more neutral sentiment score than negative sentiment score, hinting towards it's commendable hold on the market.\n",
        "\n",
        "\n"
      ]
    },
    {
      "cell_type": "markdown",
      "metadata": {
        "id": "LEwiDwEZg4zK"
      },
      "source": [
        "### 8.3 SWOT Analysis\n",
        "Conduct a SWOT analysis (Strengths, Weaknesses, Opportunities, Threats) for Beats by Dre based on the comparative data."
      ]
    },
    {
      "cell_type": "markdown",
      "metadata": {
        "id": "TaYis6EzXhRK"
      },
      "source": [
        "\n",
        "**Strengths**\n",
        "- Well-known among younger audiences, thanks to its stylish design and celebrity endorsements.\n",
        "- Strong customer satisfaction with a high number of positive reviews.\n",
        "- Benefits from being part of the Apple ecosystem, offering seamless compatibility.\n",
        "-Appeals as a fashion and lifestyle brand, not just audio equipment.\n",
        "\n",
        "**Weaknesses**\n",
        "- Seen as expensive compared to competitors with similar or better sound quality.\n",
        "- The bass-heavy sound may not appeal to audiophiles who prefer a balanced sound.\n",
        "\n",
        "**Opportunities**\n",
        "- Potential to expand product lines with varied sound profiles and features.\n",
        "- Use Apple’s distribution and marketing to reach new markets.\n",
        "- Expanding demand for wireless devices offers innovation opportunities.\n",
        "- Adopting eco-friendly practices could attract new customers.\n",
        "\n",
        "**Threats**\n",
        "- Competitors like Sony, Bose, and Sennheiser are strong and innovative.\n",
        "- Consumers are increasingly seeking value for money and sound quality.\n",
        "- Premium pricing might be a disadvantage in economic downturns.\n",
        "- Any negative perception or quality issues could harm the brand's image.\n"
      ]
    },
    {
      "cell_type": "markdown",
      "metadata": {
        "id": "-cjwuRIbg9ud"
      },
      "source": [
        "## 9. Strategic Recommendations\n",
        "\n",
        "### 9.1 Product Improvements\n"
      ]
    },
    {
      "cell_type": "markdown",
      "metadata": {
        "id": "pupPRDX6YrVU"
      },
      "source": [
        "**Diversify Sound Profiles**\n",
        "- Offer models with a more balanced sound profile to attract audiophiles.\n",
        "- Allow users to adjust sound settings to their preferences.\n",
        "\n",
        "**Enhance Value**\n",
        "- Upgrade these features to match competitors like Sony and Bose.\n",
        "- Ensure headphones are comfortable for long wear and built to last.\n",
        "\n",
        "**Expand Product Range**\n",
        "- Introduce more affordable options to attract a wider audience.\n",
        "- Develop new features like advanced voice assistant integration and spatial audio.\n",
        "\n",
        "**Sustainability Focus**\n",
        "- Incorporate sustainable materials to appeal to eco-conscious consumers.\n",
        "- Enhance transparency in manufacturing and sourcing.\n",
        "\n",
        "**Leverage Customer Feedback**\n",
        "- Use customer feedback to make continual improvements.\n",
        "- Engage customers in product design to better meet their needs."
      ]
    },
    {
      "cell_type": "markdown",
      "metadata": {
        "id": "2bsNlkdlhBot"
      },
      "source": [
        "### 9.2 Marketing Strategies\n"
      ]
    },
    {
      "cell_type": "markdown",
      "metadata": {
        "id": "c_gTfQi0ZSnE"
      },
      "source": [
        "**Emphasize Product Quality**\n",
        "   - Highlight technical features like sound quality and noise cancellation through educational content.\n",
        "   -Use comparisons to showcase strengths over competitors, focusing on performance and integration with Apple products.\n",
        "\n",
        "**Targeted Campaigns**\n",
        "   - Create campaigns emphasizing sound quality and durability, featuring endorsements from music professionals.\n",
        "   -Continue using celebrity endorsements and influencers to appeal to younger, style-focused audiences.\n",
        "\n",
        "**Promote Sustainability**\n",
        "   - Market sustainability initiatives, such as recyclable materials, to attract environmentally conscious customers.\n",
        "   -Showcase ethical practices in sourcing and manufacturing to build trust.\n",
        "\n",
        "**Engage on Digital and Social Platforms**\n",
        "   - Use social media for interactive campaigns, polls, and user-generated content to boost engagement.\n",
        "   - Collaborate with tech and audio influencers for authentic product reviews and promotions.\n",
        "\n",
        "**Enhance Customer Interaction**\n",
        "   - Actively seek and showcase customer feedback to show responsiveness and commitment to improvement.\n",
        "   - Offer rewards for repeat purchases and referrals to encourage brand loyalty."
      ]
    },
    {
      "cell_type": "markdown",
      "metadata": {
        "id": "vmvfoXy_hG_d"
      },
      "source": [
        "### 9.3 Future Research"
      ]
    },
    {
      "cell_type": "markdown",
      "metadata": {
        "id": "IXvK2gc4aRNH"
      },
      "source": [
        "*   Collect data on customer age, location, and usage habits to better understand market segments\n",
        "*   Gather detailed feedback on specific product features (e.g., sound quality, battery life) to inform product development\n",
        "*   Survey customers on brand perception and compare it to competitors to identify potential areas for improvement\n",
        "*   Original price and offer/sale prices of these products should be compared to check how much price as a factor plays an important role here"
      ]
    },
    {
      "cell_type": "markdown",
      "metadata": {
        "id": "6LrUwAGHhIsP"
      },
      "source": [
        "## 10. Conclusion\n",
        "\n",
        "**Key Findings**\n",
        "- Beats by Dre enjoys strong customer satisfaction, similar to competitors like Sony and Bose.\n",
        "- Some consumers find Beats overpriced and criticize the bass-heavy sound profile.\n",
        "- There's potential to attract more audiophiles and environmentally conscious consumers through product diversification and sustainable practices.\n",
        "\n",
        "**Implications**\n",
        "- Beats can leverage its strong brand and positive sentiment to expand its market by enhancing product features and addressing perceived weaknesses.\n",
        "- Marketing strategies focusing on customer service, sound quality, sustainability, and diverse consumer needs could further strengthen its position.\n",
        "\n",
        "**Overall Reflection:**\n",
        "The project provides valuable insights into consumer sentiment for Beats by Dre, highlighting both strengths and areas for improvement. It contributes to a better understanding of market dynamics and informs strategic decisions to enhance brand perception and customer satisfaction."
      ]
    },
    {
      "cell_type": "markdown",
      "metadata": {
        "id": "olikrWxke3lK"
      },
      "source": [
        "## 11. References"
      ]
    },
    {
      "cell_type": "markdown",
      "metadata": {
        "id": "m41JT5RxOlMM"
      },
      "source": [
        "\n",
        "\n",
        "*   Sources: Amazon.com, Google.com, Wikipedia\n",
        "*   Tools: Oxylabs API, Gemini AI, ChatGPT\n",
        "\n"
      ]
    }
  ],
  "metadata": {
    "colab": {
      "provenance": []
    },
    "kernelspec": {
      "display_name": "Python 3",
      "name": "python3"
    },
    "language_info": {
      "name": "python"
    }
  },
  "nbformat": 4,
  "nbformat_minor": 0
}
